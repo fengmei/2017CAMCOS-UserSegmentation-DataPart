{
 "cells": [
  {
   "cell_type": "code",
   "execution_count": 1,
   "metadata": {
    "collapsed": true
   },
   "outputs": [],
   "source": [
    "## set up the python2 with jupyter notebook\n",
    "\n",
    "# 1. python2 -m pip install ipykernel\n",
    "# 2. python2 -m ipykernel install --user\n",
    "\n",
    "# some errors when configuring \n",
    "# a. \"setuptools must be installed to install from a source distribution\"\n",
    "# solution: sudo pip install -U setuptools\n",
    "# b. \"Permission denied: '/usr/local/bin/......'\"\n",
    "# solution: sudo chown -R $(whoami) /usr/local"
   ]
  },
  {
   "cell_type": "code",
   "execution_count": 3,
   "metadata": {
    "collapsed": false
   },
   "outputs": [
    {
     "ename": "ValueError",
     "evalue": "Couldn't find Spark, make sure SPARK_HOME env is set or Spark is in an expected location (e.g. from homebrew installation).",
     "output_type": "error",
     "traceback": [
      "\u001b[0;31m---------------------------------------------------------------------------\u001b[0m",
      "\u001b[0;31mValueError\u001b[0m                                Traceback (most recent call last)",
      "\u001b[0;32m<ipython-input-3-31d6a05889a8>\u001b[0m in \u001b[0;36m<module>\u001b[0;34m()\u001b[0m\n\u001b[1;32m      1\u001b[0m \u001b[0mget_ipython\u001b[0m\u001b[0;34m(\u001b[0m\u001b[0;34m)\u001b[0m\u001b[0;34m.\u001b[0m\u001b[0mmagic\u001b[0m\u001b[0;34m(\u001b[0m\u001b[0;34mu'matplotlib inline'\u001b[0m\u001b[0;34m)\u001b[0m\u001b[0;34m\u001b[0m\u001b[0m\n\u001b[1;32m      2\u001b[0m \u001b[0;32mimport\u001b[0m \u001b[0mfindspark\u001b[0m\u001b[0;34m\u001b[0m\u001b[0m\n\u001b[0;32m----> 3\u001b[0;31m \u001b[0mfindspark\u001b[0m\u001b[0;34m.\u001b[0m\u001b[0minit\u001b[0m\u001b[0;34m(\u001b[0m\u001b[0;34m)\u001b[0m\u001b[0;34m\u001b[0m\u001b[0m\n\u001b[0m\u001b[1;32m      4\u001b[0m \u001b[0;32mimport\u001b[0m \u001b[0mpyspark\u001b[0m\u001b[0;34m\u001b[0m\u001b[0m\n\u001b[1;32m      5\u001b[0m \u001b[0;32mfrom\u001b[0m \u001b[0mpyspark\u001b[0m \u001b[0;32mimport\u001b[0m \u001b[0mSparkContext\u001b[0m\u001b[0;34m\u001b[0m\u001b[0m\n",
      "\u001b[0;32m/usr/local/lib/python2.7/site-packages/findspark.pyc\u001b[0m in \u001b[0;36minit\u001b[0;34m(spark_home, python_path, edit_rc, edit_profile)\u001b[0m\n\u001b[1;32m    119\u001b[0m \u001b[0;34m\u001b[0m\u001b[0m\n\u001b[1;32m    120\u001b[0m     \u001b[0;32mif\u001b[0m \u001b[0;32mnot\u001b[0m \u001b[0mspark_home\u001b[0m\u001b[0;34m:\u001b[0m\u001b[0;34m\u001b[0m\u001b[0m\n\u001b[0;32m--> 121\u001b[0;31m         \u001b[0mspark_home\u001b[0m \u001b[0;34m=\u001b[0m \u001b[0mfind\u001b[0m\u001b[0;34m(\u001b[0m\u001b[0;34m)\u001b[0m\u001b[0;34m\u001b[0m\u001b[0m\n\u001b[0m\u001b[1;32m    122\u001b[0m \u001b[0;34m\u001b[0m\u001b[0m\n\u001b[1;32m    123\u001b[0m     \u001b[0;32mif\u001b[0m \u001b[0;32mnot\u001b[0m \u001b[0mpython_path\u001b[0m\u001b[0;34m:\u001b[0m\u001b[0;34m\u001b[0m\u001b[0m\n",
      "\u001b[0;32m/usr/local/lib/python2.7/site-packages/findspark.pyc\u001b[0m in \u001b[0;36mfind\u001b[0;34m()\u001b[0m\n\u001b[1;32m     30\u001b[0m \u001b[0;34m\u001b[0m\u001b[0m\n\u001b[1;32m     31\u001b[0m     \u001b[0;32mif\u001b[0m \u001b[0;32mnot\u001b[0m \u001b[0mspark_home\u001b[0m\u001b[0;34m:\u001b[0m\u001b[0;34m\u001b[0m\u001b[0m\n\u001b[0;32m---> 32\u001b[0;31m         raise ValueError(\"Couldn't find Spark, make sure SPARK_HOME env is set\"\n\u001b[0m\u001b[1;32m     33\u001b[0m                          \" or Spark is in an expected location (e.g. from homebrew installation).\")\n\u001b[1;32m     34\u001b[0m \u001b[0;34m\u001b[0m\u001b[0m\n",
      "\u001b[0;31mValueError\u001b[0m: Couldn't find Spark, make sure SPARK_HOME env is set or Spark is in an expected location (e.g. from homebrew installation)."
     ]
    }
   ],
   "source": [
    "%matplotlib inline\n",
    "import findspark\n",
    "findspark.init()\n",
    "import pyspark\n",
    "from pyspark import SparkContext\n",
    "import pandas as pd\n",
    "import numpy as np\n",
    "import matplotlib.pyplot as plt \n",
    "from pyspark.sql import functions as F\n",
    "from pyspark.sql.functions import *\n",
    "import plotly\n",
    "import plotly.plotly as py\n",
    "from plotly.graph_objs import *\n",
    "import requests\n",
    "import sklearn\n",
    "from sklearn.cluster import KMeans\n",
    "from pyspark.mllib.clustering import KMeans, KMeansModel\n",
    "requests.packages.urllib3.disable_warnings()\n",
    "spark = pyspark.sql.SparkSession \\\n",
    "    .builder \\\n",
    "    .appName(\"Read Some Parquet\") \\\n",
    "    .config(\"spark.some.config.option\", \"some-value\") \\\n",
    "    .getOrCreate()"
   ]
  },
  {
   "cell_type": "markdown",
   "metadata": {},
   "source": [
    "# agg/profile exploration"
   ]
  },
  {
   "cell_type": "code",
   "execution_count": 5,
   "metadata": {
    "collapsed": false
   },
   "outputs": [],
   "source": [
    "agg_profile_all = spark.read.parquet(\"/Users/fengmei/SJSU_ClASSES/Math203/Verizon/Data/agg/agg/profileAgg\")\n",
    "aggprofile1 = spark.read.parquet('/Users/fengmei/SJSU_ClASSES/Math203/Verizon/Data/agg/agg/profileAgg/date=20170202')\n",
    "aggprofile11 = spark.read.parquet('/Users/fengmei/SJSU_ClASSES/Math203/Verizon/Data/agg/agg/profileAgg/date=20161124/part-r-00001-1a1f1763-f48e-4612-9669-6752f5a3a3ee.snappy.parquet')\n"
   ]
  },
  {
   "cell_type": "markdown",
   "metadata": {},
   "source": [
    "##  (1) Look into the columns/variables"
   ]
  },
  {
   "cell_type": "code",
   "execution_count": 45,
   "metadata": {
    "collapsed": false
   },
   "outputs": [
    {
     "data": {
      "text/plain": [
       "[Row(subscriberid=u'1000256437000000', privacy=u'OIN', osSet=[], vzCategMap={}, appCategMap={}, dmaMap={u'20170101': [u'743']}, stateMap={u'20170101': [u'AK']}, vzcategories=[], appcategories=[], dma=[u'743'], state=[u'AK'], date=20170202),\n",
       " Row(subscriberid=u'1001617822000000', privacy=u'NOO', osSet=[], vzCategMap={}, appCategMap={}, dmaMap={u'20170125': [u'756', u'533'], u'20170127': [u'575'], u'20170131': [u'533'], u'20170116': [u'533'], u'20170106': [u'567'], u'20161231': [u'533'], u'20161230': [u'575'], u'20170110': [u'575'], u'20170111': [u'533'], u'20170129': [u'533', u'567'], u'20170105': [u'533']}, stateMap={u'20170125': [u'MT', u'CT'], u'20170127': [u'TN'], u'20170131': [u'CT'], u'20170116': [u'CT'], u'20170106': [u'NC'], u'20161231': [u'CT'], u'20161230': [u'TN'], u'20170110': [u'TN'], u'20170111': [u'CT'], u'20170129': [u'CT', u'NC'], u'20170105': [u'CT']}, vzcategories=[], appcategories=[], dma=[u'533', u'575', u'756', u'567'], state=[u'CT', u'TN', u'MT', u'NC'], date=20170202)]"
      ]
     },
     "execution_count": 45,
     "metadata": {},
     "output_type": "execute_result"
    }
   ],
   "source": [
    "agg_profile_all.take(2)"
   ]
  },
  {
   "cell_type": "code",
   "execution_count": 20,
   "metadata": {
    "collapsed": false
   },
   "outputs": [
    {
     "data": {
      "text/plain": [
       "['subscriberid',\n",
       " 'privacy',\n",
       " 'osSet',\n",
       " 'vzCategMap',\n",
       " 'appCategMap',\n",
       " 'dmaMap',\n",
       " 'stateMap',\n",
       " 'vzcategories',\n",
       " 'appcategories',\n",
       " 'dma',\n",
       " 'state']"
      ]
     },
     "execution_count": 20,
     "metadata": {},
     "output_type": "execute_result"
    }
   ],
   "source": [
    "aggprofile1.columns"
   ]
  },
  {
   "cell_type": "markdown",
   "metadata": {},
   "source": [
    "## (2) Count the Rows:"
   ]
  },
  {
   "cell_type": "code",
   "execution_count": 21,
   "metadata": {
    "collapsed": false
   },
   "outputs": [],
   "source": [
    "aggprofrow =agg_profile_all.count()"
   ]
  },
  {
   "cell_type": "code",
   "execution_count": 18,
   "metadata": {
    "collapsed": false
   },
   "outputs": [
    {
     "name": "stdout",
     "output_type": "stream",
     "text": [
      "agg/profile rows: 70995527\n",
      "agg/profiel columns: 12\n"
     ]
    }
   ],
   "source": [
    "print \"agg/profile rows:\", aggprofrow\n",
    "print \"agg/profiel columns:\", len(agg_profile_all.columns)"
   ]
  },
  {
   "cell_type": "markdown",
   "metadata": {},
   "source": [
    "## (3) Count distinct values in each column"
   ]
  },
  {
   "cell_type": "code",
   "execution_count": 30,
   "metadata": {
    "collapsed": false
   },
   "outputs": [
    {
     "data": {
      "text/plain": [
       "(3, 17, 597, 2, 237848, 130161)"
      ]
     },
     "execution_count": 30,
     "metadata": {},
     "output_type": "execute_result"
    }
   ],
   "source": [
    "agg_profile_all.select('privacy').distinct().count(), agg_profile_all.select('osSet').distinct().count(), agg_profile_all.select('vzcategories').distinct().count(), agg_profile_all.select('appcategories').distinct().count(), agg_profile_all.select('dma').distinct().count(), agg_profile_all.select('state').distinct().count()"
   ]
  },
  {
   "cell_type": "code",
   "execution_count": null,
   "metadata": {
    "collapsed": true
   },
   "outputs": [],
   "source": [
    "# agg_profile_all.dmaMap.map(lambda x: x[1])"
   ]
  },
  {
   "cell_type": "markdown",
   "metadata": {},
   "source": [
    "## (4) Group the vzcategories"
   ]
  },
  {
   "cell_type": "code",
   "execution_count": 1,
   "metadata": {
    "collapsed": false
   },
   "outputs": [
    {
     "ename": "SyntaxError",
     "evalue": "keyword can't be an expression (<ipython-input-1-f2244eba2ef2>, line 1)",
     "output_type": "error",
     "traceback": [
      "\u001b[0;36m  File \u001b[0;32m\"<ipython-input-1-f2244eba2ef2>\"\u001b[0;36m, line \u001b[0;32m1\u001b[0m\n\u001b[0;31m    aggprofile1.filter(aggprofile1.vzcategories  = '[News and Magazines]')\u001b[0m\n\u001b[0;31mSyntaxError\u001b[0m\u001b[0;31m:\u001b[0m keyword can't be an expression\n"
     ]
    }
   ],
   "source": [
    "aggprofile1.filter(aggprofile1.vzcategories  = '[News and Magazines]')"
   ]
  },
  {
   "cell_type": "code",
   "execution_count": 8,
   "metadata": {
    "collapsed": false,
    "scrolled": true
   },
   "outputs": [
    {
     "name": "stdout",
     "output_type": "stream",
     "text": [
      "+--------------------+------+\n",
      "|        vzcategories| count|\n",
      "+--------------------+------+\n",
      "|                  []|973054|\n",
      "|[News and Magazines]|  5283|\n",
      "|            [Retail]|  3503|\n",
      "|            [Sports]|  1855|\n",
      "|        [Technology]|  1240|\n",
      "|              [Food]|   976|\n",
      "|        [Automotive]|   905|\n",
      "|              [Home]|   868|\n",
      "|           [Finance]|   862|\n",
      "|[Health and Medic...|   828|\n",
      "|            [Travel]|   693|\n",
      "|      [Home, Retail]|   660|\n",
      "|             [Music]|   660|\n",
      "|    [Retail, Sports]|   599|\n",
      "|     [Entertainment]|   465|\n",
      "|      [Food, Retail]|   409|\n",
      "| [Social Networking]|   378|\n",
      "|           [Science]|   336|\n",
      "|[Automotive, Retail]|   336|\n",
      "|    [Kids and Teens]|   327|\n",
      "+--------------------+------+\n",
      "only showing top 20 rows\n",
      "\n"
     ]
    }
   ],
   "source": [
    "aggprofile1.select(\"vzcategories\").groupBy('vzcategories').count().orderBy('count', ascending=False).show()"
   ]
  },
  {
   "cell_type": "markdown",
   "metadata": {},
   "source": [
    "## (5) See the record of one user ID"
   ]
  },
  {
   "cell_type": "code",
   "execution_count": 41,
   "metadata": {
    "collapsed": false
   },
   "outputs": [],
   "source": [
    "aggprof_sampleid = agg_profile_all.filter(\"subscriberid ='1001617822000000'\")"
   ]
  },
  {
   "cell_type": "code",
   "execution_count": 43,
   "metadata": {
    "collapsed": false
   },
   "outputs": [
    {
     "name": "stdout",
     "output_type": "stream",
     "text": [
      "+----------------+-------+-----+----------+-----------+--------------------+--------------------+------------+-------------+--------------------+----------------+--------+\n",
      "|    subscriberid|privacy|osSet|vzCategMap|appCategMap|              dmaMap|            stateMap|vzcategories|appcategories|                 dma|           state|    date|\n",
      "+----------------+-------+-----+----------+-----------+--------------------+--------------------+------------+-------------+--------------------+----------------+--------+\n",
      "|1001617822000000|    NOO|   []|     Map()|      Map()|Map(20170105 -> W...|Map(20170105 -> W...|          []|           []|[533, 575, 756, 567]|[CT, TN, MT, NC]|20170202|\n",
      "|1001617822000000|    NOO|   []|     Map()|      Map()|Map(20170105 -> W...|Map(20170105 -> W...|          []|           []|[533, 575, 756, 567]|[CT, TN, MT, NC]|20170201|\n",
      "|1001617822000000|    NOO|   []|     Map()|      Map()|Map(20170105 -> W...|Map(20170105 -> W...|          []|           []|[533, 575, 756, 567]|[CT, TN, MT, NC]|20170131|\n",
      "|1001617822000000|    NOO|   []|     Map()|      Map()|Map(20170105 -> W...|Map(20170105 -> W...|          []|           []|[533, 575, 756, 567]|[CT, TN, MT, NC]|20170130|\n",
      "|1001617822000000|    NOO|   []|     Map()|      Map()|Map(20170105 -> W...|Map(20170105 -> W...|          []|           []|[533, 575, 756, 567]|[CT, TN, MT, NC]|20170129|\n",
      "|1001617822000000|    NOO|   []|     Map()|      Map()|Map(20170105 -> W...|Map(20170105 -> W...|          []|           []|[533, 575, 756, 567]|[CT, TN, MT, NC]|20170128|\n",
      "|1001617822000000|    NOO|   []|     Map()|      Map()|Map(20170105 -> W...|Map(20170105 -> W...|          []|           []|[533, 575, 756, 567]|[CT, TN, MT, NC]|20170127|\n",
      "|1001617822000000|    NOO|   []|     Map()|      Map()|Map(20170105 -> W...|Map(20170105 -> W...|          []|           []|[533, 575, 756, 567]|[CT, TN, MT, NC]|20170126|\n",
      "|1001617822000000|    NOO|   []|     Map()|      Map()|Map(20170105 -> W...|Map(20170105 -> W...|          []|           []|[533, 575, 756, 567]|[CT, TN, MT, NC]|20170125|\n",
      "|1001617822000000|    NOO|   []|     Map()|      Map()|Map(20170105 -> W...|Map(20170105 -> W...|          []|           []|     [533, 575, 567]|    [CT, TN, NC]|20170124|\n",
      "|1001617822000000|    NOO|   []|     Map()|      Map()|Map(20170105 -> W...|Map(20170105 -> W...|          []|           []|     [533, 575, 567]|    [CT, TN, NC]|20170123|\n",
      "|1001617822000000|    NOO|   []|     Map()|      Map()|Map(20170105 -> W...|Map(20170105 -> W...|          []|           []|     [533, 575, 567]|    [CT, TN, NC]|20170122|\n",
      "|1001617822000000|    NOO|   []|     Map()|      Map()|Map(20170105 -> W...|Map(20170105 -> W...|          []|           []|     [533, 575, 567]|    [CT, TN, NC]|20170121|\n",
      "|1001617822000000|    NOO|   []|     Map()|      Map()|Map(20170105 -> W...|Map(20170105 -> W...|          []|           []|     [533, 575, 567]|    [CT, TN, NC]|20170120|\n",
      "|1001617822000000|    NOO|   []|     Map()|      Map()|Map(20170105 -> W...|Map(20170105 -> W...|          []|           []|     [533, 575, 567]|    [CT, TN, NC]|20170119|\n",
      "|1001617822000000|    NOO|   []|     Map()|      Map()|Map(20170105 -> W...|Map(20170105 -> W...|          []|           []|     [533, 575, 567]|    [CT, TN, NC]|20170118|\n",
      "|1001617822000000|    NOO|   []|     Map()|      Map()|Map(20170105 -> W...|Map(20170105 -> W...|          []|           []|     [533, 575, 567]|    [CT, TN, NC]|20170117|\n",
      "|1001617822000000|    NOO|   []|     Map()|      Map()|Map(20170105 -> W...|Map(20170105 -> W...|          []|           []|     [533, 575, 567]|    [CT, TN, NC]|20170116|\n",
      "|1001617822000000|    NOO|   []|     Map()|      Map()|Map(20170105 -> W...|Map(20170105 -> W...|          []|           []|     [533, 575, 567]|    [CT, TN, NC]|20170115|\n",
      "|1001617822000000|    NOO|   []|     Map()|      Map()|Map(20170105 -> W...|Map(20170105 -> W...|          []|           []|     [533, 575, 567]|    [CT, TN, NC]|20170114|\n",
      "|1001617822000000|    NOO|   []|     Map()|      Map()|Map(20170105 -> W...|Map(20170105 -> W...|          []|           []|     [533, 575, 567]|    [CT, TN, NC]|20170113|\n",
      "|1001617822000000|    NOO|   []|     Map()|      Map()|Map(20170105 -> W...|Map(20170105 -> W...|          []|           []|     [533, 575, 567]|    [CT, TN, NC]|20170112|\n",
      "|1001617822000000|    NOO|   []|     Map()|      Map()|Map(20170105 -> W...|Map(20170105 -> W...|          []|           []|     [533, 575, 567]|    [CT, TN, NC]|20170111|\n",
      "|1001617822000000|    NOO|   []|     Map()|      Map()|Map(20170105 -> W...|Map(20170105 -> W...|          []|           []|     [533, 575, 567]|    [CT, TN, NC]|20170110|\n",
      "|1001617822000000|    NOO|   []|     Map()|      Map()|Map(20170106 -> W...|Map(20170106 -> W...|          []|           []|     [567, 533, 575]|    [NC, CT, TN]|20170109|\n",
      "|1001617822000000|    NOO|   []|     Map()|      Map()|Map(20170106 -> W...|Map(20170106 -> W...|          []|           []|     [567, 533, 575]|    [NC, CT, TN]|20170108|\n",
      "|1001617822000000|    NOO|   []|     Map()|      Map()|Map(20170106 -> W...|Map(20170106 -> W...|          []|           []|     [567, 533, 575]|    [NC, CT, TN]|20170107|\n",
      "|1001617822000000|    NOO|   []|     Map()|      Map()|Map(20170106 -> W...|Map(20170106 -> W...|          []|           []|     [567, 533, 575]|    [NC, CT, TN]|20170106|\n",
      "|1001617822000000|    NOO|   []|     Map()|      Map()|Map(20170105 -> W...|Map(20170105 -> W...|          []|           []|          [533, 575]|        [CT, TN]|20170105|\n",
      "|1001617822000000|    NOO|   []|     Map()|      Map()|Map(20161231 -> W...|Map(20161231 -> W...|          []|           []|          [533, 575]|        [CT, TN]|20170104|\n",
      "|1001617822000000|    NOO|   []|     Map()|      Map()|Map(20161231 -> W...|Map(20161231 -> W...|          []|           []|          [533, 575]|        [CT, TN]|20170103|\n",
      "|1001617822000000|    NOO|   []|     Map()|      Map()|Map(20161231 -> W...|Map(20161231 -> W...|          []|           []|          [533, 575]|        [CT, TN]|20170102|\n",
      "|1001617822000000|    NOO|   []|     Map()|      Map()|Map(20161231 -> W...|Map(20161231 -> W...|          []|           []|          [533, 575]|        [CT, TN]|20170101|\n",
      "|1001617822000000|    NOO|   []|     Map()|      Map()|Map(20161231 -> W...|Map(20161231 -> W...|          []|           []|          [533, 575]|        [CT, TN]|20161231|\n",
      "|1001617822000000|    NOO|   []|     Map()|      Map()|Map(20161230 -> W...|Map(20161230 -> W...|          []|           []|               [575]|            [TN]|20161230|\n",
      "|1001617822000000|    NOO|   []|     Map()|      Map()|               Map()|               Map()|          []|           []|                  []|              []|20161229|\n",
      "|1001617822000000|    NOO|   []|     Map()|      Map()|               Map()|               Map()|          []|           []|                  []|              []|20161228|\n",
      "|1001617822000000|    NOO|   []|     Map()|      Map()|               Map()|               Map()|          []|           []|                  []|              []|20161227|\n",
      "|1001617822000000|    NOO|   []|     Map()|      Map()|               Map()|               Map()|          []|           []|                  []|              []|20161226|\n",
      "|1001617822000000|    NOO|   []|     Map()|      Map()|               Map()|               Map()|          []|           []|                  []|              []|20161225|\n",
      "|1001617822000000|    NOO|   []|     Map()|      Map()|               Map()|               Map()|          []|           []|                  []|              []|20161224|\n",
      "|1001617822000000|    NOO|   []|     Map()|      Map()|               Map()|               Map()|          []|           []|                  []|              []|20161201|\n",
      "|1001617822000000|    NOO|   []|     Map()|      Map()|               Map()|               Map()|          []|           []|                  []|              []|20161205|\n",
      "|1001617822000000|    NOO|   []|     Map()|      Map()|               Map()|               Map()|          []|           []|                  []|              []|20161207|\n",
      "|1001617822000000|    NOO|   []|     Map()|      Map()|               Map()|               Map()|          []|           []|                  []|              []|20161204|\n",
      "|1001617822000000|    NOO|   []|     Map()|      Map()|               Map()|               Map()|          []|           []|                  []|              []|20161130|\n",
      "|1001617822000000|    NOO|   []|     Map()|      Map()|               Map()|               Map()|          []|           []|                  []|              []|20161206|\n",
      "|1001617822000000|    NOO|   []|     Map()|      Map()|               Map()|               Map()|          []|           []|                  []|              []|20161208|\n",
      "|1001617822000000|    NOO|   []|     Map()|      Map()|               Map()|               Map()|          []|           []|                  []|              []|20161203|\n",
      "|1001617822000000|    NOO|   []|     Map()|      Map()|               Map()|               Map()|          []|           []|                  []|              []|20161210|\n",
      "|1001617822000000|    NOO|   []|     Map()|      Map()|               Map()|               Map()|          []|           []|                  []|              []|20161209|\n",
      "|1001617822000000|    NOO|   []|     Map()|      Map()|               Map()|               Map()|          []|           []|                  []|              []|20161211|\n",
      "|1001617822000000|    NOO|   []|     Map()|      Map()|               Map()|               Map()|          []|           []|                  []|              []|20161202|\n",
      "|1001617822000000|    NOO|   []|     Map()|      Map()|               Map()|               Map()|          []|           []|                  []|              []|20161222|\n",
      "|1001617822000000|    NOO|   []|     Map()|      Map()|               Map()|               Map()|          []|           []|                  []|              []|20161212|\n",
      "|1001617822000000|    NOO|   []|     Map()|      Map()|               Map()|               Map()|          []|           []|                  []|              []|20161223|\n",
      "|1001617822000000|    NOO|   []|     Map()|      Map()|               Map()|               Map()|          []|           []|                  []|              []|20161216|\n",
      "|1001617822000000|    NOO|   []|     Map()|      Map()|               Map()|               Map()|          []|           []|                  []|              []|20161214|\n",
      "|1001617822000000|    NOO|   []|     Map()|      Map()|               Map()|               Map()|          []|           []|                  []|              []|20161219|\n",
      "|1001617822000000|    NOO|   []|     Map()|      Map()|               Map()|               Map()|          []|           []|                  []|              []|20161221|\n",
      "|1001617822000000|    NOO|   []|     Map()|      Map()|               Map()|               Map()|          []|           []|                  []|              []|20161215|\n",
      "|1001617822000000|    NOO|   []|     Map()|      Map()|               Map()|               Map()|          []|           []|                  []|              []|20161220|\n",
      "|1001617822000000|    NOO|   []|     Map()|      Map()|               Map()|               Map()|          []|           []|                  []|              []|20161213|\n",
      "|1001617822000000|    NOO|   []|     Map()|      Map()|               Map()|               Map()|          []|           []|                  []|              []|20161218|\n",
      "|1001617822000000|    NOO|   []|     Map()|      Map()|               Map()|               Map()|          []|           []|                  []|              []|20161217|\n",
      "|1001617822000000|    NOO|   []|     Map()|      Map()|               Map()|               Map()|          []|           []|                  []|              []|20161129|\n",
      "|1001617822000000|    NOO|   []|     Map()|      Map()|               Map()|               Map()|          []|           []|                  []|              []|20161128|\n",
      "|1001617822000000|    NOO|   []|     Map()|      Map()|               Map()|               Map()|          []|           []|                  []|              []|20161127|\n",
      "|1001617822000000|    NOO|   []|     Map()|      Map()|               Map()|               Map()|          []|           []|                  []|              []|20161126|\n",
      "|1001617822000000|    NOO|   []|     Map()|      Map()|               Map()|               Map()|          []|           []|                  []|              []|20161125|\n",
      "|1001617822000000|    NOO|   []|     Map()|      Map()|               Map()|               Map()|          []|           []|                  []|              []|20161124|\n",
      "+----------------+-------+-----+----------+-----------+--------------------+--------------------+------------+-------------+--------------------+----------------+--------+\n",
      "\n"
     ]
    }
   ],
   "source": [
    "aggprof_sampleid.show(71)"
   ]
  },
  {
   "cell_type": "code",
   "execution_count": 44,
   "metadata": {
    "collapsed": false
   },
   "outputs": [
    {
     "data": {
      "text/plain": [
       "[Row(subscriberid=u'1001617822000000', privacy=u'NOO', osSet=[], vzCategMap={}, appCategMap={}, dmaMap={u'20170125': [u'756', u'533'], u'20170127': [u'575'], u'20170131': [u'533'], u'20170116': [u'533'], u'20170106': [u'567'], u'20161231': [u'533'], u'20161230': [u'575'], u'20170110': [u'575'], u'20170111': [u'533'], u'20170129': [u'533', u'567'], u'20170105': [u'533']}, stateMap={u'20170125': [u'MT', u'CT'], u'20170127': [u'TN'], u'20170131': [u'CT'], u'20170116': [u'CT'], u'20170106': [u'NC'], u'20161231': [u'CT'], u'20161230': [u'TN'], u'20170110': [u'TN'], u'20170111': [u'CT'], u'20170129': [u'CT', u'NC'], u'20170105': [u'CT']}, vzcategories=[], appcategories=[], dma=[u'533', u'575', u'756', u'567'], state=[u'CT', u'TN', u'MT', u'NC'], date=20170202)]"
      ]
     },
     "execution_count": 44,
     "metadata": {},
     "output_type": "execute_result"
    }
   ],
   "source": [
    "aggprof_sampleid.take(1)"
   ]
  },
  {
   "cell_type": "code",
   "execution_count": 79,
   "metadata": {
    "collapsed": false
   },
   "outputs": [
    {
     "name": "stdout",
     "output_type": "stream",
     "text": [
      "+-------------+--------+\n",
      "|appcategories|   count|\n",
      "+-------------+--------+\n",
      "|           []|70889380|\n",
      "|           []|  106147|\n",
      "+-------------+--------+\n",
      "\n"
     ]
    }
   ],
   "source": [
    "agg_profile_all.select(\"appcategories\").groupBy('appcategories').count().orderBy('count', ascending=False).show()"
   ]
  },
  {
   "cell_type": "markdown",
   "metadata": {},
   "source": [
    "## Questions:  \n",
    "what's in \"vzCategMap\", \"appCategMap\", \"dmaMap\", \"stateMap\"? \\n\n",
    "what are the vzcategories, appcategories, dma, state? Are they the same for each date-folder?\n"
   ]
  },
  {
   "cell_type": "code",
   "execution_count": null,
   "metadata": {
    "collapsed": true
   },
   "outputs": [],
   "source": []
  },
  {
   "cell_type": "markdown",
   "metadata": {},
   "source": [
    "# agg/hist exploration"
   ]
  },
  {
   "cell_type": "code",
   "execution_count": 2,
   "metadata": {
    "collapsed": true
   },
   "outputs": [],
   "source": [
    "agg_hist_all = spark.read.parquet(\"/Users/fengmei/SJSU_ClASSES/Math203/Verizon/Data/agg/agg/hist\")"
   ]
  },
  {
   "cell_type": "code",
   "execution_count": 3,
   "metadata": {
    "collapsed": false
   },
   "outputs": [],
   "source": [
    "agghist11 = spark.read.parquet('/Users/fengmei/SJSU_ClASSES/Math203/Verizon/Data/agg/agg/hist/date=20170202/part-r-00100-e5046983-1de1-4068-a5f3-50e9f899753b.snappy.parquet')\n"
   ]
  },
  {
   "cell_type": "markdown",
   "metadata": {},
   "source": [
    "## (1) Check the columns"
   ]
  },
  {
   "cell_type": "code",
   "execution_count": 8,
   "metadata": {
    "collapsed": true
   },
   "outputs": [
    {
     "data": {
      "text/plain": [
       "['subscriberid',\n",
       " 'privacy',\n",
       " 'osSet',\n",
       " 'vzCategMap',\n",
       " 'appCategMap',\n",
       " 'dmaMap',\n",
       " 'stateMap',\n",
       " 'vzcategories',\n",
       " 'appcategories',\n",
       " 'dma',\n",
       " 'state',\n",
       " 'tldAggScores',\n",
       " 'entityAggScores',\n",
       " 'zipAggScores',\n",
       " 'dynaGeoAggScores',\n",
       " 'appNameAggScores',\n",
       " 'tld',\n",
       " 'entity',\n",
       " 'zip',\n",
       " 'dynaGeohash',\n",
       " 'appname',\n",
       " 'CLM',\n",
       " 'age',\n",
       " 'income',\n",
       " 'homeowner_status_desc',\n",
       " 'marital_status_cd',\n",
       " 'gender',\n",
       " 'education',\n",
       " 'race_desc',\n",
       " 'lang_desc',\n",
       " 'child_in_hshld_flag',\n",
       " 'zip5_cd',\n",
       " 'acct_type',\n",
       " 'acct_type_primary',\n",
       " 'birth_year',\n",
       " 'birth_month',\n",
       " 'experian_match',\n",
       " 'home_value',\n",
       " 'residence',\n",
       " 'occupation',\n",
       " 'interest_automotive',\n",
       " 'interest_travel',\n",
       " 'interest_fitness',\n",
       " 'interest_home_decor',\n",
       " 'interest_outdoors',\n",
       " 'interest_sports',\n",
       " 'interest_sports_propensity',\n",
       " 'contributes_to_charities',\n",
       " 'contrib_to_charity_propensity',\n",
       " 'purchased_via_mail',\n",
       " 'purchased_via_mail_propensity',\n",
       " 'purchase_via_online',\n",
       " 'purchase_via_online_propensity',\n",
       " 'internet_online_subscriber',\n",
       " 'child_in_hshld_count',\n",
       " 'mosaic_z4',\n",
       " 'eaid',\n",
       " 'child_age',\n",
       " 'device_mweb_handset_ind',\n",
       " 'device_gin_handset_ind',\n",
       " 'device_sms_handset_ind',\n",
       " 'device_streaming_video',\n",
       " 'device_data_tier',\n",
       " 'device_data_tier_fin',\n",
       " 'device_tier',\n",
       " 'device_os_type',\n",
       " 'device_os_version',\n",
       " 'device_device_brand_name',\n",
       " 'device_model_alias',\n",
       " 'device_make',\n",
       " 'device_os',\n",
       " 'device_type',\n",
       " 'device_osversion']"
      ]
     },
     "execution_count": 8,
     "metadata": {},
     "output_type": "execute_result"
    }
   ],
   "source": [
    "agghist11.columns"
   ]
  },
  {
   "cell_type": "code",
   "execution_count": 9,
   "metadata": {
    "collapsed": true
   },
   "outputs": [
    {
     "data": {
      "text/plain": [
       "[Row(subscriberid=u'1000256437000000', privacy=u'OIN', osSet=[], vzCategMap={}, appCategMap={}, dmaMap={u'20170101': [u'743']}, stateMap={u'20170101': [u'AK']}, vzcategories=[], appcategories=[], dma=[u'743'], state=[u'AK'], tldAggScores=None, entityAggScores=None, zipAggScores={u'99502': 2.0}, dynaGeoAggScores={u'bdvk9': 2.0}, appNameAggScores=None, tld=None, entity=None, zip=[u'99502'], dynaGeohash=[u'bdvk9'], appname=None, CLM=None, age=None, income=None, homeowner_status_desc=None, marital_status_cd=None, gender=None, education=None, race_desc=None, lang_desc=None, child_in_hshld_flag=None, zip5_cd=None, acct_type=None, acct_type_primary=None, birth_year=None, birth_month=None, experian_match=None, home_value=None, residence=None, occupation=None, interest_automotive=None, interest_travel=None, interest_fitness=None, interest_home_decor=None, interest_outdoors=None, interest_sports=None, interest_sports_propensity=None, contributes_to_charities=None, contrib_to_charity_propensity=None, purchased_via_mail=None, purchased_via_mail_propensity=None, purchase_via_online=None, purchase_via_online_propensity=None, internet_online_subscriber=None, child_in_hshld_count=None, mosaic_z4=None, eaid=None, child_age=None, device_mweb_handset_ind=None, device_gin_handset_ind=None, device_sms_handset_ind=None, device_streaming_video=None, device_data_tier=None, device_data_tier_fin=None, device_tier=None, device_os_type=None, device_os_version=None, device_device_brand_name=None, device_model_alias=None, device_make=None, device_os=None, device_type=None, device_osversion=None, date=20170202)]"
      ]
     },
     "execution_count": 9,
     "metadata": {},
     "output_type": "execute_result"
    }
   ],
   "source": [
    "agg_hist_all.take(1)"
   ]
  },
  {
   "cell_type": "markdown",
   "metadata": {},
   "source": [
    "## (2) Count the rows"
   ]
  },
  {
   "cell_type": "code",
   "execution_count": 51,
   "metadata": {
    "collapsed": true
   },
   "outputs": [],
   "source": [
    "agghistrows =agg_hist_all.count()"
   ]
  },
  {
   "cell_type": "code",
   "execution_count": 54,
   "metadata": {
    "collapsed": true
   },
   "outputs": [
    {
     "name": "stdout",
     "output_type": "stream",
     "text": [
      "agg/hist rows: 999937\n",
      "agg/hist columns: 73\n"
     ]
    }
   ],
   "source": [
    "print \"agg/hist rows:\", agghistrows\n",
    "print \"agg/hist columns:\", len(agghist11.columns)"
   ]
  },
  {
   "cell_type": "markdown",
   "metadata": {},
   "source": [
    "## (3) See record for one user ID"
   ]
  },
  {
   "cell_type": "code",
   "execution_count": 55,
   "metadata": {
    "collapsed": true
   },
   "outputs": [],
   "source": [
    "agghist_sampleid = agg_hist_all.filter(\"subscriberid ='1001617822000000'\")"
   ]
  },
  {
   "cell_type": "code",
   "execution_count": 56,
   "metadata": {
    "collapsed": true
   },
   "outputs": [
    {
     "name": "stdout",
     "output_type": "stream",
     "text": [
      "+----------------+-------+-----+----------+-----------+--------------------+--------------------+------------+-------------+--------------------+----------------+------------+---------------+--------------------+--------------------+----------------+----+------+--------------------+--------------------+-------+----+----+------+---------------------+-----------------+------+---------+---------+---------+-------------------+-------+---------+-----------------+----------+-----------+--------------+----------+---------+----------+-------------------+---------------+----------------+-------------------+-----------------+---------------+--------------------------+------------------------+-----------------------------+------------------+-----------------------------+-------------------+------------------------------+--------------------------+--------------------+---------+----+---------+-----------------------+----------------------+----------------------+----------------------+----------------+--------------------+-----------+--------------+-----------------+------------------------+------------------+-----------+---------+-----------+----------------+--------+\n",
      "|    subscriberid|privacy|osSet|vzCategMap|appCategMap|              dmaMap|            stateMap|vzcategories|appcategories|                 dma|           state|tldAggScores|entityAggScores|        zipAggScores|    dynaGeoAggScores|appNameAggScores| tld|entity|                 zip|         dynaGeohash|appname| CLM| age|income|homeowner_status_desc|marital_status_cd|gender|education|race_desc|lang_desc|child_in_hshld_flag|zip5_cd|acct_type|acct_type_primary|birth_year|birth_month|experian_match|home_value|residence|occupation|interest_automotive|interest_travel|interest_fitness|interest_home_decor|interest_outdoors|interest_sports|interest_sports_propensity|contributes_to_charities|contrib_to_charity_propensity|purchased_via_mail|purchased_via_mail_propensity|purchase_via_online|purchase_via_online_propensity|internet_online_subscriber|child_in_hshld_count|mosaic_z4|eaid|child_age|device_mweb_handset_ind|device_gin_handset_ind|device_sms_handset_ind|device_streaming_video|device_data_tier|device_data_tier_fin|device_tier|device_os_type|device_os_version|device_device_brand_name|device_model_alias|device_make|device_os|device_type|device_osversion|    date|\n",
      "+----------------+-------+-----+----------+-----------+--------------------+--------------------+------------+-------------+--------------------+----------------+------------+---------------+--------------------+--------------------+----------------+----+------+--------------------+--------------------+-------+----+----+------+---------------------+-----------------+------+---------+---------+---------+-------------------+-------+---------+-----------------+----------+-----------+--------------+----------+---------+----------+-------------------+---------------+----------------+-------------------+-----------------+---------------+--------------------------+------------------------+-----------------------------+------------------+-----------------------------+-------------------+------------------------------+--------------------------+--------------------+---------+----+---------+-----------------------+----------------------+----------------------+----------------------+----------------+--------------------+-----------+--------------+-----------------+------------------------+------------------+-----------+---------+-----------+----------------+--------+\n",
      "|1001617822000000|    NOO|   []|     Map()|      Map()|Map(20170105 -> W...|Map(20170105 -> W...|          []|           []|[533, 575, 756, 567]|[CT, TN, MT, NC]|        null|           null|Map(37301 -> 8.0,...|Map(dn71 -> 8.0, ...|            null|null|  null|[37301, 59068, 28...|[dn71, dnm88u, 9v...|   null|null|null|  null|                 null|             null|  null|     null|     null|     null|               null|   null|     null|             null|      null|       null|          null|      null|     null|      null|               null|           null|            null|               null|             null|           null|                      null|                    null|                         null|              null|                         null|               null|                          null|                      null|                null|     null|null|     null|                      Y|                     N|                     N|                     N|        Internet|            Internet|           |           8.1|              QCM|                     QEC|                NA|      Apple|      iOS|       Card|             QCM|20170202|\n",
      "+----------------+-------+-----+----------+-----------+--------------------+--------------------+------------+-------------+--------------------+----------------+------------+---------------+--------------------+--------------------+----------------+----+------+--------------------+--------------------+-------+----+----+------+---------------------+-----------------+------+---------+---------+---------+-------------------+-------+---------+-----------------+----------+-----------+--------------+----------+---------+----------+-------------------+---------------+----------------+-------------------+-----------------+---------------+--------------------------+------------------------+-----------------------------+------------------+-----------------------------+-------------------+------------------------------+--------------------------+--------------------+---------+----+---------+-----------------------+----------------------+----------------------+----------------------+----------------+--------------------+-----------+--------------+-----------------+------------------------+------------------+-----------+---------+-----------+----------------+--------+\n",
      "\n"
     ]
    }
   ],
   "source": [
    "agghist_sampleid.show()"
   ]
  },
  {
   "cell_type": "code",
   "execution_count": 57,
   "metadata": {
    "collapsed": true
   },
   "outputs": [
    {
     "data": {
      "text/plain": [
       "[Row(subscriberid=u'1001617822000000', privacy=u'NOO', osSet=[], vzCategMap={}, appCategMap={}, dmaMap={u'20170125': [u'756', u'533'], u'20170127': [u'575'], u'20170131': [u'533'], u'20170116': [u'533'], u'20170106': [u'567'], u'20161231': [u'533'], u'20161230': [u'575'], u'20170110': [u'575'], u'20170111': [u'533'], u'20170129': [u'533', u'567'], u'20170105': [u'533']}, stateMap={u'20170125': [u'MT', u'CT'], u'20170127': [u'TN'], u'20170131': [u'CT'], u'20170116': [u'CT'], u'20170106': [u'NC'], u'20161231': [u'CT'], u'20161230': [u'TN'], u'20170110': [u'TN'], u'20170111': [u'CT'], u'20170129': [u'CT', u'NC'], u'20170105': [u'CT']}, vzcategories=[], appcategories=[], dma=[u'533', u'575', u'756', u'567'], state=[u'CT', u'TN', u'MT', u'NC'], tldAggScores=None, entityAggScores=None, zipAggScores={u'28722': 2.0, u'59068': 1.0, u'37301': 8.0, u'06037': 16.0, u'71107': 1.0}, dynaGeoAggScores={u'c840': 1.0, u'dnm88u': 2.0, u'9vv1': 1.0, u'dn71': 8.0, u'drkk81': 16.0}, appNameAggScores=None, tld=None, entity=None, zip=[u'37301', u'59068', u'28722', u'06037', u'71107'], dynaGeohash=[u'dn71', u'dnm88u', u'9vv1', u'drkk81', u'c840'], appname=None, CLM=None, age=None, income=None, homeowner_status_desc=None, marital_status_cd=None, gender=None, education=None, race_desc=None, lang_desc=None, child_in_hshld_flag=None, zip5_cd=None, acct_type=None, acct_type_primary=None, birth_year=None, birth_month=None, experian_match=None, home_value=None, residence=None, occupation=None, interest_automotive=None, interest_travel=None, interest_fitness=None, interest_home_decor=None, interest_outdoors=None, interest_sports=None, interest_sports_propensity=None, contributes_to_charities=None, contrib_to_charity_propensity=None, purchased_via_mail=None, purchased_via_mail_propensity=None, purchase_via_online=None, purchase_via_online_propensity=None, internet_online_subscriber=None, child_in_hshld_count=None, mosaic_z4=None, eaid=None, child_age=None, device_mweb_handset_ind=u'Y', device_gin_handset_ind=u'N', device_sms_handset_ind=u'N', device_streaming_video=u'N', device_data_tier=u'Internet', device_data_tier_fin=u'Internet', device_tier=u' ', device_os_type=u'8.1', device_os_version=u'QCM', device_device_brand_name=u'QEC', device_model_alias=u'NA', device_make=u'Apple', device_os=u'iOS', device_type=u'Card', device_osversion=u'QCM', date=20170202)]"
      ]
     },
     "execution_count": 57,
     "metadata": {},
     "output_type": "execute_result"
    }
   ],
   "source": [
    "agghist_sampleid.take(1)"
   ]
  },
  {
   "cell_type": "markdown",
   "metadata": {},
   "source": [
    "## (4) Check the \"tldAggScores\" - without the none-values"
   ]
  },
  {
   "cell_type": "code",
   "execution_count": 64,
   "metadata": {
    "collapsed": true
   },
   "outputs": [
    {
     "data": {
      "text/plain": [
       "[Row(tldAggScores=None),\n",
       " Row(tldAggScores=None),\n",
       " Row(tldAggScores=None),\n",
       " Row(tldAggScores={u'glenbrookdodgechryslerjeep.com': 1.0}),\n",
       " Row(tldAggScores=None),\n",
       " Row(tldAggScores=None),\n",
       " Row(tldAggScores=None),\n",
       " Row(tldAggScores=None),\n",
       " Row(tldAggScores=None),\n",
       " Row(tldAggScores=None),\n",
       " Row(tldAggScores={u'roger-russell.com': 1.0, u'baldtruthtalk.com': 1.0, u'usmilitarymuseum.org': 1.0, u'parkweb.vic.gov.au': 1.0}),\n",
       " Row(tldAggScores={u'lindasecrist.com': 1.0}),\n",
       " Row(tldAggScores=None),\n",
       " Row(tldAggScores=None),\n",
       " Row(tldAggScores=None),\n",
       " Row(tldAggScores=None),\n",
       " Row(tldAggScores={u'bcferries.com': 1.0}),\n",
       " Row(tldAggScores={u'golfcollege.edu': 1.0}),\n",
       " Row(tldAggScores={u'elcoyotecafe.com': 1.0, u'cccti.edu': 1.0}),\n",
       " Row(tldAggScores={u'propertyresourcesgroup.com': 1.0, u'bryancountyga.org': 1.0})]"
      ]
     },
     "execution_count": 64,
     "metadata": {},
     "output_type": "execute_result"
    }
   ],
   "source": [
    "agg_hist_all.select('tldAggScores').take(20)"
   ]
  },
  {
   "cell_type": "code",
   "execution_count": null,
   "metadata": {
    "collapsed": false
   },
   "outputs": [],
   "source": []
  },
  {
   "cell_type": "code",
   "execution_count": 73,
   "metadata": {
    "collapsed": false
   },
   "outputs": [
    {
     "data": {
      "text/plain": [
       "330148"
      ]
     },
     "execution_count": 73,
     "metadata": {},
     "output_type": "execute_result"
    }
   ],
   "source": [
    "agg_hist_all.select('tldAggScores').na.drop().count()"
   ]
  },
  {
   "cell_type": "code",
   "execution_count": 75,
   "metadata": {
    "collapsed": true
   },
   "outputs": [
    {
     "data": {
      "text/plain": [
       "[Row(tldAggScores={u'glenbrookdodgechryslerjeep.com': 1.0}),\n",
       " Row(tldAggScores={u'roger-russell.com': 1.0, u'baldtruthtalk.com': 1.0, u'usmilitarymuseum.org': 1.0, u'parkweb.vic.gov.au': 1.0}),\n",
       " Row(tldAggScores={u'lindasecrist.com': 1.0}),\n",
       " Row(tldAggScores={u'bcferries.com': 1.0}),\n",
       " Row(tldAggScores={u'golfcollege.edu': 1.0}),\n",
       " Row(tldAggScores={u'elcoyotecafe.com': 1.0, u'cccti.edu': 1.0}),\n",
       " Row(tldAggScores={u'propertyresourcesgroup.com': 1.0, u'bryancountyga.org': 1.0}),\n",
       " Row(tldAggScores={u'smscsoccer.com': 1.0, u'texaspepperjelly.com': 1.0, u'maryannmc.com': 1.0, u'kfc.com.cn': 1.0}),\n",
       " Row(tldAggScores={u'pirelli.com': 1.0, u'ossipeelakere.com': 1.0, u'rlac.com': 1.0, u'copt.com': 1.0, u'mayersonjcc.org': 1.0}),\n",
       " Row(tldAggScores={u'chevytalk.org': 1.0, u'barnesville.k12.oh.us': 1.0}),\n",
       " Row(tldAggScores={u'ocean.k12.wa.us': 1.0}),\n",
       " Row(tldAggScores={u'townofkentct.org': 1.0, u'windhamhouse.com': 1.0, u'ultimateinsurancejobs.com': 1.0, u'patrickjames.com': 1.0, u'westfieldnj.com': 1.0, u'flydealflies.com': 1.0}),\n",
       " Row(tldAggScores={u'shadowtrader.net': 1.0}),\n",
       " Row(tldAggScores={u'jamestownharley.com': 1.0}),\n",
       " Row(tldAggScores={u'georgewhiteames.com': 1.0, u'pinecam.com': 1.0, u'brainerdsports.net': 1.0}),\n",
       " Row(tldAggScores={u'bigtopbouncers.com': 1.0}),\n",
       " Row(tldAggScores={u'metigosheministries.com': 1.0, u'autodev.com': 1.0}),\n",
       " Row(tldAggScores={u'kasd.org': 1.0}),\n",
       " Row(tldAggScores={u'metrotvnews.com': 1.0}),\n",
       " Row(tldAggScores={u'marealtor.com': 1.0})]"
      ]
     },
     "execution_count": 75,
     "metadata": {},
     "output_type": "execute_result"
    }
   ],
   "source": [
    "agg_hist_all.select('tldAggScores').na.drop().take(20)"
   ]
  },
  {
   "cell_type": "code",
   "execution_count": 6,
   "metadata": {
    "collapsed": true
   },
   "outputs": [],
   "source": [
    "tldscore = agg_hist_all.select('tldAggScores').na.drop().toPandas()"
   ]
  },
  {
   "cell_type": "code",
   "execution_count": null,
   "metadata": {
    "collapsed": true
   },
   "outputs": [],
   "source": [
    "agg_hist_all.select('tldAggScores').na.drop()."
   ]
  },
  {
   "cell_type": "code",
   "execution_count": 7,
   "metadata": {
    "collapsed": false
   },
   "outputs": [
    {
     "data": {
      "text/plain": [
       "15.0"
      ]
     },
     "execution_count": 7,
     "metadata": {},
     "output_type": "execute_result"
    }
   ],
   "source": [
    "a = np.zeros((330148,1))\n",
    "for i in range(a.shape[0]):\n",
    "    a[i] =len(tldscore['tldAggScores'][i])\n",
    "np.amax(a)"
   ]
  },
  {
   "cell_type": "markdown",
   "metadata": {},
   "source": [
    "## (5) Count the occurance of each website"
   ]
  },
  {
   "cell_type": "code",
   "execution_count": 7,
   "metadata": {
    "collapsed": false,
    "scrolled": true
   },
   "outputs": [
    {
     "data": {
      "image/png": "[encoded data removed]",
      "text/plain": [
       "<matplotlib.figure.Figure at 0x10fe51dd0>"
      ]
     },
     "metadata": {},
     "output_type": "display_data"
    }
   ],
   "source": [
    "plt.plot(a)\n",
    "plt.show()"
   ]
  },
  {
   "cell_type": "code",
   "execution_count": null,
   "metadata": {
    "collapsed": false
   },
   "outputs": [],
   "source": [
    "#tldscore['tldAggScores'].value_counts()"
   ]
  },
  {
   "cell_type": "code",
   "execution_count": 9,
   "metadata": {
    "collapsed": false
   },
   "outputs": [],
   "source": [
    "import ast\n",
    "#tldscore[\"tldAggScores\"] =  tldscore[\"tldAggScores\"].map(lambda d : ast.literal_eval(d))"
   ]
  },
  {
   "cell_type": "markdown",
   "metadata": {},
   "source": [
    "## (6) More exploration on tldAggScores"
   ]
  },
  {
   "cell_type": "code",
   "execution_count": 25,
   "metadata": {
    "collapsed": true
   },
   "outputs": [
    {
     "name": "stdout",
     "output_type": "stream",
     "text": [
      "+--------------------+-----+\n",
      "|                 key|value|\n",
      "+--------------------+-----+\n",
      "|glenbrookdodgechr...|  1.0|\n",
      "|usmilitarymuseum.org|  1.0|\n",
      "|   baldtruthtalk.com|  1.0|\n",
      "|   roger-russell.com|  1.0|\n",
      "|  parkweb.vic.gov.au|  1.0|\n",
      "|    lindasecrist.com|  1.0|\n",
      "|       bcferries.com|  1.0|\n",
      "|     golfcollege.edu|  1.0|\n",
      "|           cccti.edu|  1.0|\n",
      "|    elcoyotecafe.com|  1.0|\n",
      "|   bryancountyga.org|  1.0|\n",
      "|propertyresources...|  1.0|\n",
      "|          kfc.com.cn|  1.0|\n",
      "|      smscsoccer.com|  1.0|\n",
      "|texaspepperjelly.com|  1.0|\n",
      "|       maryannmc.com|  1.0|\n",
      "|            rlac.com|  1.0|\n",
      "|     mayersonjcc.org|  1.0|\n",
      "|   ossipeelakere.com|  1.0|\n",
      "|            copt.com|  1.0|\n",
      "+--------------------+-----+\n",
      "only showing top 20 rows\n",
      "\n"
     ]
    }
   ],
   "source": [
    "agg_hist_all.select(explode(agg_hist_all.tldAggScores).alias(\"key\", \"value\")).show()"
   ]
  },
  {
   "cell_type": "code",
   "execution_count": 22,
   "metadata": {
    "collapsed": true
   },
   "outputs": [
    {
     "name": "stdout",
     "output_type": "stream",
     "text": [
      "+--------------------+-----+\n",
      "|                 key|count|\n",
      "+--------------------+-----+\n",
      "|curryhealthnetwor...|   15|\n",
      "|shopoldcoloradoci...|   14|\n",
      "|     signaturehd.com|   14|\n",
      "|     grasshopper.com|   14|\n",
      "|         bethelu.edu|   13|\n",
      "|        oilprice.com|   13|\n",
      "|            n4bb.com|   13|\n",
      "|   halcolighting.com|   13|\n",
      "|          nonnis.com|   13|\n",
      "|     healthlinks.net|   13|\n",
      "|          scopes.com|   13|\n",
      "|thenews-democrat.com|   12|\n",
      "|ultrasonacolumbus...|   12|\n",
      "|      mtu-online.com|   12|\n",
      "|frederickcosmetic...|   12|\n",
      "|jagermeistersheph...|   12|\n",
      "|    burnshyundai.com|   12|\n",
      "|        rentalia.com|   12|\n",
      "|broadwayinchicago...|   12|\n",
      "|      squawcreek.com|   12|\n",
      "|         ziebart.com|   12|\n",
      "|   watsonquality.com|   12|\n",
      "|     ameshistory.org|   12|\n",
      "|   languagestars.com|   12|\n",
      "|     billionauto.com|   12|\n",
      "|    firenzegifts.com|   12|\n",
      "|        marworth.org|   12|\n",
      "|      keptelenseg.hu|   12|\n",
      "|     fnbgranbury.com|   12|\n",
      "|  stbarnabashigh.com|   12|\n",
      "|       google.com.br|   12|\n",
      "|         colleys.com|   12|\n",
      "|       surfbirds.com|   12|\n",
      "|pinewoodderbycars...|   12|\n",
      "| campaignmastery.com|   12|\n",
      "|       mtnlaurel.com|   11|\n",
      "|        gravitec.com|   11|\n",
      "|    innofchicago.com|   11|\n",
      "| rockfordraptors.org|   11|\n",
      "|gainesvilletimes.com|   11|\n",
      "|    sequoiagrove.com|   11|\n",
      "|    mileswmathis.com|   11|\n",
      "|     clubfinders.com|   11|\n",
      "|almadecubarestaur...|   11|\n",
      "|     trendmotors.com|   11|\n",
      "| newmarket.k12.nh.us|   11|\n",
      "|    hermosahotel.com|   11|\n",
      "|         j-pouch.org|   11|\n",
      "|hedgesfamilyestat...|   11|\n",
      "|           blogas.lt|   11|\n",
      "|            g2ic.com|   11|\n",
      "|         tellwut.com|   11|\n",
      "|    airplantcity.com|   11|\n",
      "|    ridgefieldsd.org|   11|\n",
      "|    careandshare.org|   11|\n",
      "|     blossmangas.com|   11|\n",
      "|     friendslake.com|   11|\n",
      "|       saloniris.com|   11|\n",
      "|      mls4owners.com|   11|\n",
      "|     brianmcamis.com|   11|\n",
      "|northboroughlibra...|   11|\n",
      "| cajunbowfishing.com|   11|\n",
      "|roxytheaternortha...|   11|\n",
      "|coastalcarolinabs...|   11|\n",
      "|    templebetham.org|   11|\n",
      "|           biamp.com|   11|\n",
      "|        bluenile.com|   11|\n",
      "|      puretyre.co.uk|   11|\n",
      "|wilmingtontrailcl...|   11|\n",
      "|          winiso.com|   11|\n",
      "| lundeenbrosford.net|   11|\n",
      "|        sunpower.com|   11|\n",
      "|            soka.edu|   11|\n",
      "|     union.k12.or.us|   11|\n",
      "|    babysburgers.com|   11|\n",
      "|    lakemaryprep.com|   11|\n",
      "|    inkasarmored.com|   11|\n",
      "|       orielstat.com|   11|\n",
      "|          kurman.com|   11|\n",
      "|        acharley.com|   11|\n",
      "|       seminoles.com|   11|\n",
      "|bearabellagoldens...|   11|\n",
      "|   dakotawalleye.com|   11|\n",
      "|           spccu.org|   11|\n",
      "|       rusnovosti.ru|   11|\n",
      "|           cnfol.com|   11|\n",
      "|    campecholake.com|   11|\n",
      "|      missioninn.com|   11|\n",
      "|    craniofacial.net|   11|\n",
      "|littlebrownchurch...|   11|\n",
      "|      greerspier.com|   11|\n",
      "|      boomerangs.com|   11|\n",
      "|semantica-portugu...|   11|\n",
      "|riverhouseflorenc...|   11|\n",
      "|  sheridan.k12.wy.us|   11|\n",
      "|     aspenchapel.org|   11|\n",
      "|       nodejitsu.com|   11|\n",
      "|   konaskatepark.com|   11|\n",
      "|     redfishlake.com|   11|\n",
      "|          hopecc.com|   11|\n",
      "+--------------------+-----+\n",
      "only showing top 100 rows\n",
      "\n"
     ]
    }
   ],
   "source": [
    "agg_hist_all.select(explode(agg_hist_all.tldAggScores).alias(\"key\", \"value\")).groupBy(\"key\").count().orderBy(\"count\",ascending=False).show(100)"
   ]
  },
  {
   "cell_type": "code",
   "execution_count": 29,
   "metadata": {
    "collapsed": true
   },
   "outputs": [],
   "source": [
    "tldcount = agg_hist_all.select(explode(agg_hist_all.tldAggScores).alias(\"key\", \"value\")).groupBy(\"key\").count().orderBy(\"count\",ascending=False).toPandas()"
   ]
  },
  {
   "cell_type": "code",
   "execution_count": 31,
   "metadata": {
    "collapsed": false
   },
   "outputs": [
    {
     "data": {
      "text/plain": [
       "[<matplotlib.lines.Line2D at 0x10a6a5850>]"
      ]
     },
     "execution_count": 31,
     "metadata": {},
     "output_type": "execute_result"
    },
    {
     "data": {
      "image/png": "[encoded data removed]",
      "text/plain": [
       "<matplotlib.figure.Figure at 0x1083dded0>"
      ]
     },
     "metadata": {},
     "output_type": "display_data"
    }
   ],
   "source": [
    "plt.plot(tldcount['count'])"
   ]
  },
  {
   "cell_type": "code",
   "execution_count": 24,
   "metadata": {
    "collapsed": false
   },
   "outputs": [
    {
     "name": "stdout",
     "output_type": "stream",
     "text": [
      "+--------------------+-----+\n",
      "|                 key|count|\n",
      "+--------------------+-----+\n",
      "|             007.com|    2|\n",
      "|        00server.com|    5|\n",
      "|           01net.com|    3|\n",
      "|              048.ua|    4|\n",
      "|  0800-horoscope.com|    2|\n",
      "|  1-800-balloons.com|    1|\n",
      "|  1-800-dryclean.com|    3|\n",
      "|1-800-shaved-ice.com|    2|\n",
      "| 1-800homeopathy.com|    3|\n",
      "|   1-877-spirits.com|    5|\n",
      "|    1-87vehicles.org|    2|\n",
      "| 1-computerdesks.com|    3|\n",
      "|  1-save-on-lens.com|    3|\n",
      "|     10-2-4ranch.com|    3|\n",
      "|           10-75.net|    3|\n",
      "| 10-minute-plays.com|    5|\n",
      "|            10-s.com|    2|\n",
      "|      10000birds.com|    1|\n",
      "|       1000acres.com|    5|\n",
      "|1000aircraftphoto...|    4|\n",
      "|       1000bulbs.com|    3|\n",
      "|1000islands-clayt...|    2|\n",
      "|       1000miglia.eu|    3|\n",
      "|  1000oaksbarrel.com|    2|\n",
      "|  1000peacewomen.org|    4|\n",
      "|1000thingstoronto...|    2|\n",
      "|  1000uglypeople.com|    6|\n",
      "|  1001beersteins.com|    5|\n",
      "|   1001cocktails.com|    4|\n",
      "|     1001goroskop.ru|    6|\n",
      "|     1001recepti.com|    1|\n",
      "|   1005freshradio.ca|    3|\n",
      "|          100777.com|    2|\n",
      "|            10086.cn|    1|\n",
      "|    100autoguide.com|    3|\n",
      "|     100blackmen.org|    6|\n",
      "|      100candles.com|    2|\n",
      "|    100clarendon.com|    5|\n",
      "|         100dorog.ru|    4|\n",
      "|           100ll.com|    3|\n",
      "|100routesacrossam...|    8|\n",
      "| 100tophospitals.com|    4|\n",
      "|           100xr.com|    2|\n",
      "|              101.ru|    5|\n",
      "|        1010data.com|    2|\n",
      "|       1010tires.com|    5|\n",
      "|        1010wins.com|    1|\n",
      "|         1011now.com|    2|\n",
      "|         1011web.com|    3|\n",
      "|    1017thebeach.com|    4|\n",
      "|     1019labuena.com|    2|\n",
      "|     101boatdock.com|    2|\n",
      "|    101cookbooks.com|    3|\n",
      "|   101greatgoals.com|    4|\n",
      "|         101inks.com|    4|\n",
      "|          101kgb.com|    4|\n",
      "|    101languages.net|    3|\n",
      "|    101livestock.com|    5|\n",
      "|      101science.com|    1|\n",
      "|            101x.com|    4|\n",
      "|           101xp.com|    1|\n",
      "|     1023blakefm.com|    3|\n",
      "|      1023jackfm.com|    4|\n",
      "|         1023xlc.com|    2|\n",
      "|         1029now.com|    3|\n",
      "|      1029thehog.com|    3|\n",
      "|        1029thez.com|    4|\n",
      "|        102nueve.com|    1|\n",
      "|              103.fm|    2|\n",
      "|       1031comex.com|    4|\n",
      "|    1031exchange.com|    6|\n",
      "|     1039thefish.com|    2|\n",
      "|          104.com.tw|    4|\n",
      "|            1040.com|    1|\n",
      "|         1040now.net|    4|\n",
      "|        1043myfm.com|    1|\n",
      "|        1047kcld.com|    3|\n",
      "|    1049theriver.com|    3|\n",
      "|     1049thewolf.com|    5|\n",
      "|      104thehawk.com|    4|\n",
      "|             105.net|    2|\n",
      "|        1050wfsc.com|    4|\n",
      "|     1051thebuzz.com|    2|\n",
      "|      1053kissfm.com|    3|\n",
      "|     1055triplem.com|    2|\n",
      "|     1059thebrew.com|    5|\n",
      "| 1059themountain.com|    4|\n",
      "|105airportparking...|    3|\n",
      "|      1061kissfm.com|    2|\n",
      "|            1065.com|    8|\n",
      "|     1065thelake.com|    5|\n",
      "|     1065thewolf.com|    2|\n",
      "|1069kickscountry.com|    3|\n",
      "|        1069play.com|    3|\n",
      "|    1069theeagle.com|    3|\n",
      "|      1069thefox.com|    2|\n",
      "|    1069thelight.org|    1|\n",
      "|          106khq.com|    5|\n",
      "|      1070thefan.com|    3|\n",
      "|      1071kissfm.com|    1|\n",
      "+--------------------+-----+\n",
      "only showing top 100 rows\n",
      "\n"
     ]
    }
   ],
   "source": [
    "agg_hist_all.select(explode(agg_hist_all.tldAggScores).alias(\"key\", \"value\")).groupBy(\"key\").count().orderBy(\"key\",ascending=True).show(100)"
   ]
  },
  {
   "cell_type": "code",
   "execution_count": 70,
   "metadata": {
    "collapsed": false
   },
   "outputs": [],
   "source": [
    "agghist = agg_hist_all.select('subscriberid','tldAggScores','vzcategories','dma').na.drop().toPandas()"
   ]
  },
  {
   "cell_type": "code",
   "execution_count": 5,
   "metadata": {
    "collapsed": false
   },
   "outputs": [
    {
     "name": "stdout",
     "output_type": "stream",
     "text": [
      "+----------+------+\n",
      "|       dma| count|\n",
      "+----------+------+\n",
      "|        []|119622|\n",
      "|     [743]| 45615|\n",
      "|     [501]|  3267|\n",
      "|     [803]|  1754|\n",
      "|     [504]|  1533|\n",
      "|     [506]|  1511|\n",
      "|     [613]|  1417|\n",
      "|     [602]|  1268|\n",
      "|     [511]|  1248|\n",
      "|     [623]|  1187|\n",
      "|     [751]|  1096|\n",
      "|     [508]|  1092|\n",
      "|     [807]|   945|\n",
      "|     [819]|   923|\n",
      "|     [609]|   920|\n",
      "|     [524]|   913|\n",
      "|     [564]|   869|\n",
      "|     [618]|   847|\n",
      "|     [510]|   793|\n",
      "|     [753]|   760|\n",
      "|     [505]|   759|\n",
      "|     [770]|   756|\n",
      "|     [616]|   751|\n",
      "|     [527]|   734|\n",
      "|     [820]|   729|\n",
      "|     [862]|   727|\n",
      "|     [539]|   726|\n",
      "|     [659]|   711|\n",
      "|     [577]|   702|\n",
      "|     [523]|   685|\n",
      "|     [678]|   674|\n",
      "|     [532]|   672|\n",
      "|     [790]|   663|\n",
      "|     [650]|   638|\n",
      "|     [693]|   632|\n",
      "|     [722]|   631|\n",
      "|[743, 501]|   629|\n",
      "|     [724]|   615|\n",
      "|     [514]|   609|\n",
      "|     [679]|   602|\n",
      "|[501, 743]|   582|\n",
      "|     [533]|   573|\n",
      "|     [632]|   573|\n",
      "|     [515]|   570|\n",
      "|     [725]|   563|\n",
      "|     [566]|   557|\n",
      "|     [500]|   547|\n",
      "|     [630]|   539|\n",
      "|     [512]|   537|\n",
      "|     [535]|   535|\n",
      "|     [560]|   526|\n",
      "|     [567]|   522|\n",
      "|     [517]|   517|\n",
      "|     [534]|   517|\n",
      "|     [640]|   510|\n",
      "|     [619]|   510|\n",
      "|     [648]|   508|\n",
      "|     [563]|   508|\n",
      "|     [574]|   507|\n",
      "|     [641]|   505|\n",
      "|     [529]|   501|\n",
      "|     [881]|   495|\n",
      "|     [573]|   494|\n",
      "|     [541]|   489|\n",
      "|     [652]|   487|\n",
      "|     [528]|   479|\n",
      "|     [637]|   476|\n",
      "|     [671]|   462|\n",
      "|     [544]|   459|\n",
      "|     [612]|   424|\n",
      "|     [556]|   418|\n",
      "|     [557]|   416|\n",
      "|     [682]|   411|\n",
      "|     [687]|   407|\n",
      "|     [617]|   395|\n",
      "|     [540]|   381|\n",
      "|     [513]|   376|\n",
      "|     [624]|   375|\n",
      "|     [669]|   371|\n",
      "|     [658]|   363|\n",
      "|     [635]|   356|\n",
      "|     [686]|   354|\n",
      "|     [547]|   351|\n",
      "|     [542]|   349|\n",
      "|     [649]|   346|\n",
      "|     [518]|   336|\n",
      "|     [825]|   329|\n",
      "|     [866]|   326|\n",
      "|     [622]|   324|\n",
      "|     [537]|   324|\n",
      "|[743, 803]|   317|\n",
      "|     [555]|   314|\n",
      "|     [561]|   309|\n",
      "| [unknown]|   308|\n",
      "|     [625]|   304|\n",
      "|     [559]|   301|\n",
      "|[743, 504]|   294|\n",
      "|[803, 743]|   290|\n",
      "|     [605]|   289|\n",
      "|     [691]|   283|\n",
      "+----------+------+\n",
      "only showing top 100 rows\n",
      "\n"
     ]
    }
   ],
   "source": [
    "agg_hist_all.select('subscriberid','tldAggScores','vzcategories','dma').na.drop().groupBy('dma').count().orderBy('count', ascending=False).show(100)"
   ]
  },
  {
   "cell_type": "code",
   "execution_count": 4,
   "metadata": {
    "collapsed": false
   },
   "outputs": [],
   "source": [
    "agghist = agg_hist_all.select('subscriberid','tldAggScores').na.drop().toPandas()"
   ]
  },
  {
   "cell_type": "code",
   "execution_count": 11,
   "metadata": {
    "collapsed": false,
    "scrolled": true
   },
   "outputs": [
    {
     "data": {
      "text/html": [
       "<div>\n",
       "<table border=\"1\" class=\"dataframe\">\n",
       "  <thead>\n",
       "    <tr style=\"text-align: right;\">\n",
       "      <th></th>\n",
       "      <th>subscriberid</th>\n",
       "      <th>tldAggScores</th>\n",
       "    </tr>\n",
       "  </thead>\n",
       "  <tbody>\n",
       "    <tr>\n",
       "      <th>0</th>\n",
       "      <td>1002918146000000</td>\n",
       "      <td>{u'glenbrookdodgechryslerjeep.com': 1.0}</td>\n",
       "    </tr>\n",
       "    <tr>\n",
       "      <th>1</th>\n",
       "      <td>1012055392000000</td>\n",
       "      <td>{u'roger-russell.com': 1.0, u'baldtruthtalk.co...</td>\n",
       "    </tr>\n",
       "    <tr>\n",
       "      <th>2</th>\n",
       "      <td>1015120891000000</td>\n",
       "      <td>{u'lindasecrist.com': 1.0}</td>\n",
       "    </tr>\n",
       "    <tr>\n",
       "      <th>3</th>\n",
       "      <td>1018474139000000</td>\n",
       "      <td>{u'bcferries.com': 1.0}</td>\n",
       "    </tr>\n",
       "    <tr>\n",
       "      <th>4</th>\n",
       "      <td>1018968166000000</td>\n",
       "      <td>{u'golfcollege.edu': 1.0}</td>\n",
       "    </tr>\n",
       "  </tbody>\n",
       "</table>\n",
       "</div>"
      ],
      "text/plain": [
       "       subscriberid                                       tldAggScores\n",
       "0  1002918146000000           {u'glenbrookdodgechryslerjeep.com': 1.0}\n",
       "1  1012055392000000  {u'roger-russell.com': 1.0, u'baldtruthtalk.co...\n",
       "2  1015120891000000                         {u'lindasecrist.com': 1.0}\n",
       "3  1018474139000000                            {u'bcferries.com': 1.0}\n",
       "4  1018968166000000                          {u'golfcollege.edu': 1.0}"
      ]
     },
     "execution_count": 11,
     "metadata": {},
     "output_type": "execute_result"
    }
   ],
   "source": [
    "agghist.head()"
   ]
  },
  {
   "cell_type": "code",
   "execution_count": 7,
   "metadata": {
    "collapsed": true
   },
   "outputs": [],
   "source": [
    "agghist_idtldscore= agg_hist_all.select('subscriberid','tldAggScores').na.drop()"
   ]
  },
  {
   "cell_type": "code",
   "execution_count": 13,
   "metadata": {
    "collapsed": false
   },
   "outputs": [
    {
     "name": "stdout",
     "output_type": "stream",
     "text": [
      "+----------------+--------------------+-----+\n",
      "|    subscriberid|                 key|value|\n",
      "+----------------+--------------------+-----+\n",
      "|1002918146000000|glenbrookdodgechr...|  1.0|\n",
      "|1012055392000000|usmilitarymuseum.org|  1.0|\n",
      "|1012055392000000|   baldtruthtalk.com|  1.0|\n",
      "|1012055392000000|   roger-russell.com|  1.0|\n",
      "|1012055392000000|  parkweb.vic.gov.au|  1.0|\n",
      "|1015120891000000|    lindasecrist.com|  1.0|\n",
      "|1018474139000000|       bcferries.com|  1.0|\n",
      "|1018968166000000|     golfcollege.edu|  1.0|\n",
      "|1018993199000000|           cccti.edu|  1.0|\n",
      "|1018993199000000|    elcoyotecafe.com|  1.0|\n",
      "|1019396984000000|   bryancountyga.org|  1.0|\n",
      "|1019396984000000|propertyresources...|  1.0|\n",
      "|1027589075000000|          kfc.com.cn|  1.0|\n",
      "|1027589075000000|      smscsoccer.com|  1.0|\n",
      "|1027589075000000|texaspepperjelly.com|  1.0|\n",
      "|1027589075000000|       maryannmc.com|  1.0|\n",
      "|1033106947000000|            rlac.com|  1.0|\n",
      "|1033106947000000|     mayersonjcc.org|  1.0|\n",
      "|1033106947000000|   ossipeelakere.com|  1.0|\n",
      "|1033106947000000|            copt.com|  1.0|\n",
      "+----------------+--------------------+-----+\n",
      "only showing top 20 rows\n",
      "\n"
     ]
    }
   ],
   "source": [
    "agghist_idtldscore.select(\"subscriberid\", explode(agg_hist_all.tldAggScores).alias(\"key\", \"value\")).show(20)"
   ]
  },
  {
   "cell_type": "code",
   "execution_count": 92,
   "metadata": {
    "collapsed": true
   },
   "outputs": [],
   "source": [
    "agghist.rdd = agghist_idtldscore.select(\"subscriberid\", explode(agg_hist_all.tldAggScores).alias(\"key\", \"value\"))"
   ]
  },
  {
   "cell_type": "code",
   "execution_count": 8,
   "metadata": {
    "collapsed": false
   },
   "outputs": [],
   "source": [
    "agghist = agghist_idtldscore.select(\"subscriberid\", explode(agg_hist_all.tldAggScores).alias(\"key\", \"value\")).toPandas()"
   ]
  },
  {
   "cell_type": "code",
   "execution_count": 9,
   "metadata": {
    "collapsed": true
   },
   "outputs": [
    {
     "data": {
      "text/html": [
       "<div>\n",
       "<table border=\"1\" class=\"dataframe\">\n",
       "  <thead>\n",
       "    <tr style=\"text-align: right;\">\n",
       "      <th></th>\n",
       "      <th>subscriberid</th>\n",
       "      <th>key</th>\n",
       "      <th>value</th>\n",
       "    </tr>\n",
       "  </thead>\n",
       "  <tbody>\n",
       "    <tr>\n",
       "      <th>0</th>\n",
       "      <td>1002918146000000</td>\n",
       "      <td>glenbrookdodgechryslerjeep.com</td>\n",
       "      <td>1.0</td>\n",
       "    </tr>\n",
       "    <tr>\n",
       "      <th>1</th>\n",
       "      <td>1012055392000000</td>\n",
       "      <td>usmilitarymuseum.org</td>\n",
       "      <td>1.0</td>\n",
       "    </tr>\n",
       "    <tr>\n",
       "      <th>2</th>\n",
       "      <td>1012055392000000</td>\n",
       "      <td>baldtruthtalk.com</td>\n",
       "      <td>1.0</td>\n",
       "    </tr>\n",
       "    <tr>\n",
       "      <th>3</th>\n",
       "      <td>1012055392000000</td>\n",
       "      <td>roger-russell.com</td>\n",
       "      <td>1.0</td>\n",
       "    </tr>\n",
       "    <tr>\n",
       "      <th>4</th>\n",
       "      <td>1012055392000000</td>\n",
       "      <td>parkweb.vic.gov.au</td>\n",
       "      <td>1.0</td>\n",
       "    </tr>\n",
       "    <tr>\n",
       "      <th>5</th>\n",
       "      <td>1015120891000000</td>\n",
       "      <td>lindasecrist.com</td>\n",
       "      <td>1.0</td>\n",
       "    </tr>\n",
       "    <tr>\n",
       "      <th>6</th>\n",
       "      <td>1018474139000000</td>\n",
       "      <td>bcferries.com</td>\n",
       "      <td>1.0</td>\n",
       "    </tr>\n",
       "    <tr>\n",
       "      <th>7</th>\n",
       "      <td>1018968166000000</td>\n",
       "      <td>golfcollege.edu</td>\n",
       "      <td>1.0</td>\n",
       "    </tr>\n",
       "    <tr>\n",
       "      <th>8</th>\n",
       "      <td>1018993199000000</td>\n",
       "      <td>cccti.edu</td>\n",
       "      <td>1.0</td>\n",
       "    </tr>\n",
       "    <tr>\n",
       "      <th>9</th>\n",
       "      <td>1018993199000000</td>\n",
       "      <td>elcoyotecafe.com</td>\n",
       "      <td>1.0</td>\n",
       "    </tr>\n",
       "    <tr>\n",
       "      <th>10</th>\n",
       "      <td>1019396984000000</td>\n",
       "      <td>bryancountyga.org</td>\n",
       "      <td>1.0</td>\n",
       "    </tr>\n",
       "    <tr>\n",
       "      <th>11</th>\n",
       "      <td>1019396984000000</td>\n",
       "      <td>propertyresourcesgroup.com</td>\n",
       "      <td>1.0</td>\n",
       "    </tr>\n",
       "    <tr>\n",
       "      <th>12</th>\n",
       "      <td>1027589075000000</td>\n",
       "      <td>kfc.com.cn</td>\n",
       "      <td>1.0</td>\n",
       "    </tr>\n",
       "    <tr>\n",
       "      <th>13</th>\n",
       "      <td>1027589075000000</td>\n",
       "      <td>smscsoccer.com</td>\n",
       "      <td>1.0</td>\n",
       "    </tr>\n",
       "    <tr>\n",
       "      <th>14</th>\n",
       "      <td>1027589075000000</td>\n",
       "      <td>texaspepperjelly.com</td>\n",
       "      <td>1.0</td>\n",
       "    </tr>\n",
       "    <tr>\n",
       "      <th>15</th>\n",
       "      <td>1027589075000000</td>\n",
       "      <td>maryannmc.com</td>\n",
       "      <td>1.0</td>\n",
       "    </tr>\n",
       "    <tr>\n",
       "      <th>16</th>\n",
       "      <td>1033106947000000</td>\n",
       "      <td>rlac.com</td>\n",
       "      <td>1.0</td>\n",
       "    </tr>\n",
       "    <tr>\n",
       "      <th>17</th>\n",
       "      <td>1033106947000000</td>\n",
       "      <td>mayersonjcc.org</td>\n",
       "      <td>1.0</td>\n",
       "    </tr>\n",
       "    <tr>\n",
       "      <th>18</th>\n",
       "      <td>1033106947000000</td>\n",
       "      <td>ossipeelakere.com</td>\n",
       "      <td>1.0</td>\n",
       "    </tr>\n",
       "    <tr>\n",
       "      <th>19</th>\n",
       "      <td>1033106947000000</td>\n",
       "      <td>copt.com</td>\n",
       "      <td>1.0</td>\n",
       "    </tr>\n",
       "    <tr>\n",
       "      <th>20</th>\n",
       "      <td>1033106947000000</td>\n",
       "      <td>pirelli.com</td>\n",
       "      <td>1.0</td>\n",
       "    </tr>\n",
       "    <tr>\n",
       "      <th>21</th>\n",
       "      <td>1042983399000000</td>\n",
       "      <td>chevytalk.org</td>\n",
       "      <td>1.0</td>\n",
       "    </tr>\n",
       "    <tr>\n",
       "      <th>22</th>\n",
       "      <td>1042983399000000</td>\n",
       "      <td>barnesville.k12.oh.us</td>\n",
       "      <td>1.0</td>\n",
       "    </tr>\n",
       "    <tr>\n",
       "      <th>23</th>\n",
       "      <td>1045509101000000</td>\n",
       "      <td>ocean.k12.wa.us</td>\n",
       "      <td>1.0</td>\n",
       "    </tr>\n",
       "    <tr>\n",
       "      <th>24</th>\n",
       "      <td>1047718671000000</td>\n",
       "      <td>townofkentct.org</td>\n",
       "      <td>1.0</td>\n",
       "    </tr>\n",
       "    <tr>\n",
       "      <th>25</th>\n",
       "      <td>1047718671000000</td>\n",
       "      <td>windhamhouse.com</td>\n",
       "      <td>1.0</td>\n",
       "    </tr>\n",
       "    <tr>\n",
       "      <th>26</th>\n",
       "      <td>1047718671000000</td>\n",
       "      <td>westfieldnj.com</td>\n",
       "      <td>1.0</td>\n",
       "    </tr>\n",
       "    <tr>\n",
       "      <th>27</th>\n",
       "      <td>1047718671000000</td>\n",
       "      <td>ultimateinsurancejobs.com</td>\n",
       "      <td>1.0</td>\n",
       "    </tr>\n",
       "    <tr>\n",
       "      <th>28</th>\n",
       "      <td>1047718671000000</td>\n",
       "      <td>flydealflies.com</td>\n",
       "      <td>1.0</td>\n",
       "    </tr>\n",
       "    <tr>\n",
       "      <th>29</th>\n",
       "      <td>1047718671000000</td>\n",
       "      <td>patrickjames.com</td>\n",
       "      <td>1.0</td>\n",
       "    </tr>\n",
       "    <tr>\n",
       "      <th>...</th>\n",
       "      <td>...</td>\n",
       "      <td>...</td>\n",
       "      <td>...</td>\n",
       "    </tr>\n",
       "    <tr>\n",
       "      <th>591606</th>\n",
       "      <td>9886035260000000</td>\n",
       "      <td>starizona.com</td>\n",
       "      <td>1.0</td>\n",
       "    </tr>\n",
       "    <tr>\n",
       "      <th>591607</th>\n",
       "      <td>9896021390000000</td>\n",
       "      <td>abatewis.org</td>\n",
       "      <td>1.0</td>\n",
       "    </tr>\n",
       "    <tr>\n",
       "      <th>591608</th>\n",
       "      <td>9896631164000000</td>\n",
       "      <td>giltner.k12.ne.us</td>\n",
       "      <td>1.0</td>\n",
       "    </tr>\n",
       "    <tr>\n",
       "      <th>591609</th>\n",
       "      <td>9896631164000000</td>\n",
       "      <td>tazewellspeedway.net</td>\n",
       "      <td>1.0</td>\n",
       "    </tr>\n",
       "    <tr>\n",
       "      <th>591610</th>\n",
       "      <td>9896631164000000</td>\n",
       "      <td>strip-curtains.com</td>\n",
       "      <td>1.0</td>\n",
       "    </tr>\n",
       "    <tr>\n",
       "      <th>591611</th>\n",
       "      <td>9903054465000000</td>\n",
       "      <td>btetech.com</td>\n",
       "      <td>1.0</td>\n",
       "    </tr>\n",
       "    <tr>\n",
       "      <th>591612</th>\n",
       "      <td>9908912746000000</td>\n",
       "      <td>innatthepresidio.com</td>\n",
       "      <td>1.0</td>\n",
       "    </tr>\n",
       "    <tr>\n",
       "      <th>591613</th>\n",
       "      <td>9913158331000000</td>\n",
       "      <td>koehlerlaw.net</td>\n",
       "      <td>1.0</td>\n",
       "    </tr>\n",
       "    <tr>\n",
       "      <th>591614</th>\n",
       "      <td>9913158331000000</td>\n",
       "      <td>generalfinishes.com</td>\n",
       "      <td>1.0</td>\n",
       "    </tr>\n",
       "    <tr>\n",
       "      <th>591615</th>\n",
       "      <td>9913158331000000</td>\n",
       "      <td>dcs-ind.com</td>\n",
       "      <td>1.0</td>\n",
       "    </tr>\n",
       "    <tr>\n",
       "      <th>591616</th>\n",
       "      <td>9914697088000000</td>\n",
       "      <td>wellsfargo.com</td>\n",
       "      <td>1.0</td>\n",
       "    </tr>\n",
       "    <tr>\n",
       "      <th>591617</th>\n",
       "      <td>9914697088000000</td>\n",
       "      <td>hfradio.org</td>\n",
       "      <td>1.0</td>\n",
       "    </tr>\n",
       "    <tr>\n",
       "      <th>591618</th>\n",
       "      <td>9914697088000000</td>\n",
       "      <td>vsso.org</td>\n",
       "      <td>1.0</td>\n",
       "    </tr>\n",
       "    <tr>\n",
       "      <th>591619</th>\n",
       "      <td>9914697088000000</td>\n",
       "      <td>pugsandiego.com</td>\n",
       "      <td>1.0</td>\n",
       "    </tr>\n",
       "    <tr>\n",
       "      <th>591620</th>\n",
       "      <td>9914697088000000</td>\n",
       "      <td>forgottenharvest.org</td>\n",
       "      <td>1.0</td>\n",
       "    </tr>\n",
       "    <tr>\n",
       "      <th>591621</th>\n",
       "      <td>9914697088000000</td>\n",
       "      <td>55krc.com</td>\n",
       "      <td>1.0</td>\n",
       "    </tr>\n",
       "    <tr>\n",
       "      <th>591622</th>\n",
       "      <td>9914697088000000</td>\n",
       "      <td>edckc.com</td>\n",
       "      <td>1.0</td>\n",
       "    </tr>\n",
       "    <tr>\n",
       "      <th>591623</th>\n",
       "      <td>9914697088000000</td>\n",
       "      <td>usasafety.com</td>\n",
       "      <td>1.0</td>\n",
       "    </tr>\n",
       "    <tr>\n",
       "      <th>591624</th>\n",
       "      <td>9917043231000000</td>\n",
       "      <td>lakeregionschools.org</td>\n",
       "      <td>1.0</td>\n",
       "    </tr>\n",
       "    <tr>\n",
       "      <th>591625</th>\n",
       "      <td>9923909044000000</td>\n",
       "      <td>tri-rail.com</td>\n",
       "      <td>1.0</td>\n",
       "    </tr>\n",
       "    <tr>\n",
       "      <th>591626</th>\n",
       "      <td>9924609161000000</td>\n",
       "      <td>epcasabyowner.com</td>\n",
       "      <td>1.0</td>\n",
       "    </tr>\n",
       "    <tr>\n",
       "      <th>591627</th>\n",
       "      <td>9960740415000000</td>\n",
       "      <td>tek-tips.com</td>\n",
       "      <td>1.0</td>\n",
       "    </tr>\n",
       "    <tr>\n",
       "      <th>591628</th>\n",
       "      <td>9960740415000000</td>\n",
       "      <td>bgcourt.org</td>\n",
       "      <td>1.0</td>\n",
       "    </tr>\n",
       "    <tr>\n",
       "      <th>591629</th>\n",
       "      <td>9960740415000000</td>\n",
       "      <td>wellschamber.org</td>\n",
       "      <td>1.0</td>\n",
       "    </tr>\n",
       "    <tr>\n",
       "      <th>591630</th>\n",
       "      <td>9976851073000000</td>\n",
       "      <td>kimballartcenter.org</td>\n",
       "      <td>1.0</td>\n",
       "    </tr>\n",
       "    <tr>\n",
       "      <th>591631</th>\n",
       "      <td>9976851073000000</td>\n",
       "      <td>jimsusa.com</td>\n",
       "      <td>1.0</td>\n",
       "    </tr>\n",
       "    <tr>\n",
       "      <th>591632</th>\n",
       "      <td>9976851073000000</td>\n",
       "      <td>occompt.com</td>\n",
       "      <td>1.0</td>\n",
       "    </tr>\n",
       "    <tr>\n",
       "      <th>591633</th>\n",
       "      <td>9987129701000000</td>\n",
       "      <td>bethel-omaha.org</td>\n",
       "      <td>1.0</td>\n",
       "    </tr>\n",
       "    <tr>\n",
       "      <th>591634</th>\n",
       "      <td>9987129701000000</td>\n",
       "      <td>exoticpetvet.net</td>\n",
       "      <td>1.0</td>\n",
       "    </tr>\n",
       "    <tr>\n",
       "      <th>591635</th>\n",
       "      <td>9995973525000000</td>\n",
       "      <td>hackerstickers.com</td>\n",
       "      <td>1.0</td>\n",
       "    </tr>\n",
       "  </tbody>\n",
       "</table>\n",
       "<p>591636 rows × 3 columns</p>\n",
       "</div>"
      ],
      "text/plain": [
       "            subscriberid                             key  value\n",
       "0       1002918146000000  glenbrookdodgechryslerjeep.com    1.0\n",
       "1       1012055392000000            usmilitarymuseum.org    1.0\n",
       "2       1012055392000000               baldtruthtalk.com    1.0\n",
       "3       1012055392000000               roger-russell.com    1.0\n",
       "4       1012055392000000              parkweb.vic.gov.au    1.0\n",
       "5       1015120891000000                lindasecrist.com    1.0\n",
       "6       1018474139000000                   bcferries.com    1.0\n",
       "7       1018968166000000                 golfcollege.edu    1.0\n",
       "8       1018993199000000                       cccti.edu    1.0\n",
       "9       1018993199000000                elcoyotecafe.com    1.0\n",
       "10      1019396984000000               bryancountyga.org    1.0\n",
       "11      1019396984000000      propertyresourcesgroup.com    1.0\n",
       "12      1027589075000000                      kfc.com.cn    1.0\n",
       "13      1027589075000000                  smscsoccer.com    1.0\n",
       "14      1027589075000000            texaspepperjelly.com    1.0\n",
       "15      1027589075000000                   maryannmc.com    1.0\n",
       "16      1033106947000000                        rlac.com    1.0\n",
       "17      1033106947000000                 mayersonjcc.org    1.0\n",
       "18      1033106947000000               ossipeelakere.com    1.0\n",
       "19      1033106947000000                        copt.com    1.0\n",
       "20      1033106947000000                     pirelli.com    1.0\n",
       "21      1042983399000000                   chevytalk.org    1.0\n",
       "22      1042983399000000           barnesville.k12.oh.us    1.0\n",
       "23      1045509101000000                 ocean.k12.wa.us    1.0\n",
       "24      1047718671000000                townofkentct.org    1.0\n",
       "25      1047718671000000                windhamhouse.com    1.0\n",
       "26      1047718671000000                 westfieldnj.com    1.0\n",
       "27      1047718671000000       ultimateinsurancejobs.com    1.0\n",
       "28      1047718671000000                flydealflies.com    1.0\n",
       "29      1047718671000000                patrickjames.com    1.0\n",
       "...                  ...                             ...    ...\n",
       "591606  9886035260000000                   starizona.com    1.0\n",
       "591607  9896021390000000                    abatewis.org    1.0\n",
       "591608  9896631164000000               giltner.k12.ne.us    1.0\n",
       "591609  9896631164000000            tazewellspeedway.net    1.0\n",
       "591610  9896631164000000              strip-curtains.com    1.0\n",
       "591611  9903054465000000                     btetech.com    1.0\n",
       "591612  9908912746000000            innatthepresidio.com    1.0\n",
       "591613  9913158331000000                  koehlerlaw.net    1.0\n",
       "591614  9913158331000000             generalfinishes.com    1.0\n",
       "591615  9913158331000000                     dcs-ind.com    1.0\n",
       "591616  9914697088000000                  wellsfargo.com    1.0\n",
       "591617  9914697088000000                     hfradio.org    1.0\n",
       "591618  9914697088000000                        vsso.org    1.0\n",
       "591619  9914697088000000                 pugsandiego.com    1.0\n",
       "591620  9914697088000000            forgottenharvest.org    1.0\n",
       "591621  9914697088000000                       55krc.com    1.0\n",
       "591622  9914697088000000                       edckc.com    1.0\n",
       "591623  9914697088000000                   usasafety.com    1.0\n",
       "591624  9917043231000000           lakeregionschools.org    1.0\n",
       "591625  9923909044000000                    tri-rail.com    1.0\n",
       "591626  9924609161000000               epcasabyowner.com    1.0\n",
       "591627  9960740415000000                    tek-tips.com    1.0\n",
       "591628  9960740415000000                     bgcourt.org    1.0\n",
       "591629  9960740415000000                wellschamber.org    1.0\n",
       "591630  9976851073000000            kimballartcenter.org    1.0\n",
       "591631  9976851073000000                     jimsusa.com    1.0\n",
       "591632  9976851073000000                     occompt.com    1.0\n",
       "591633  9987129701000000                bethel-omaha.org    1.0\n",
       "591634  9987129701000000                exoticpetvet.net    1.0\n",
       "591635  9995973525000000              hackerstickers.com    1.0\n",
       "\n",
       "[591636 rows x 3 columns]"
      ]
     },
     "execution_count": 9,
     "metadata": {},
     "output_type": "execute_result"
    }
   ],
   "source": [
    "agghist"
   ]
  },
  {
   "cell_type": "code",
   "execution_count": 108,
   "metadata": {
    "collapsed": false
   },
   "outputs": [
    {
     "data": {
      "text/plain": [
       "(330148, 175325, 2)"
      ]
     },
     "execution_count": 108,
     "metadata": {},
     "output_type": "execute_result"
    }
   ],
   "source": [
    "len(agghist['subscriberid'].unique()), len(agghist['key'].unique()),len(agghist['value'].unique())"
   ]
  },
  {
   "cell_type": "code",
   "execution_count": 110,
   "metadata": {
    "collapsed": false
   },
   "outputs": [
    {
     "data": {
      "text/html": [
       "<div>\n",
       "<table border=\"1\" class=\"dataframe\">\n",
       "  <thead>\n",
       "    <tr style=\"text-align: right;\">\n",
       "      <th></th>\n",
       "      <th>subscriberid</th>\n",
       "      <th>key</th>\n",
       "    </tr>\n",
       "    <tr>\n",
       "      <th>value</th>\n",
       "      <th></th>\n",
       "      <th></th>\n",
       "    </tr>\n",
       "  </thead>\n",
       "  <tbody>\n",
       "    <tr>\n",
       "      <th>1.0</th>\n",
       "      <td>1002918146000000101205539200000010120553920000...</td>\n",
       "      <td>glenbrookdodgechryslerjeep.comusmilitarymuseum...</td>\n",
       "    </tr>\n",
       "    <tr>\n",
       "      <th>2.0</th>\n",
       "      <td>2894701244000000</td>\n",
       "      <td>lcmschools.org</td>\n",
       "    </tr>\n",
       "  </tbody>\n",
       "</table>\n",
       "</div>"
      ],
      "text/plain": [
       "                                            subscriberid  \\\n",
       "value                                                      \n",
       "1.0    1002918146000000101205539200000010120553920000...   \n",
       "2.0                                     2894701244000000   \n",
       "\n",
       "                                                     key  \n",
       "value                                                     \n",
       "1.0    glenbrookdodgechryslerjeep.comusmilitarymuseum...  \n",
       "2.0                                       lcmschools.org  "
      ]
     },
     "execution_count": 110,
     "metadata": {},
     "output_type": "execute_result"
    }
   ],
   "source": [
    "agghist.groupby('value').sum()"
   ]
  },
  {
   "cell_type": "code",
   "execution_count": 10,
   "metadata": {
    "collapsed": false
   },
   "outputs": [],
   "source": [
    "rowsum = agghist.groupby('subscriberid').sum()\n"
   ]
  },
  {
   "cell_type": "code",
   "execution_count": 11,
   "metadata": {
    "collapsed": false
   },
   "outputs": [
    {
     "data": {
      "text/html": [
       "<div>\n",
       "<table border=\"1\" class=\"dataframe\">\n",
       "  <thead>\n",
       "    <tr style=\"text-align: right;\">\n",
       "      <th></th>\n",
       "      <th>value</th>\n",
       "    </tr>\n",
       "    <tr>\n",
       "      <th>subscriberid</th>\n",
       "      <th></th>\n",
       "    </tr>\n",
       "  </thead>\n",
       "  <tbody>\n",
       "    <tr>\n",
       "      <th>1000003425000000</th>\n",
       "      <td>1.0</td>\n",
       "    </tr>\n",
       "    <tr>\n",
       "      <th>1000030914000000</th>\n",
       "      <td>2.0</td>\n",
       "    </tr>\n",
       "    <tr>\n",
       "      <th>1000036049000000</th>\n",
       "      <td>1.0</td>\n",
       "    </tr>\n",
       "    <tr>\n",
       "      <th>1000041030000000</th>\n",
       "      <td>1.0</td>\n",
       "    </tr>\n",
       "    <tr>\n",
       "      <th>1000044840000000</th>\n",
       "      <td>1.0</td>\n",
       "    </tr>\n",
       "    <tr>\n",
       "      <th>1000062252000000</th>\n",
       "      <td>1.0</td>\n",
       "    </tr>\n",
       "    <tr>\n",
       "      <th>1000068889000000</th>\n",
       "      <td>2.0</td>\n",
       "    </tr>\n",
       "    <tr>\n",
       "      <th>1000072174000000</th>\n",
       "      <td>2.0</td>\n",
       "    </tr>\n",
       "    <tr>\n",
       "      <th>1000092045000000</th>\n",
       "      <td>1.0</td>\n",
       "    </tr>\n",
       "    <tr>\n",
       "      <th>1000124526000000</th>\n",
       "      <td>1.0</td>\n",
       "    </tr>\n",
       "    <tr>\n",
       "      <th>1000135365000000</th>\n",
       "      <td>1.0</td>\n",
       "    </tr>\n",
       "    <tr>\n",
       "      <th>1000135827000000</th>\n",
       "      <td>2.0</td>\n",
       "    </tr>\n",
       "    <tr>\n",
       "      <th>1000144468000000</th>\n",
       "      <td>2.0</td>\n",
       "    </tr>\n",
       "    <tr>\n",
       "      <th>1000164596000000</th>\n",
       "      <td>1.0</td>\n",
       "    </tr>\n",
       "    <tr>\n",
       "      <th>1000166172000000</th>\n",
       "      <td>1.0</td>\n",
       "    </tr>\n",
       "    <tr>\n",
       "      <th>1000185962000000</th>\n",
       "      <td>4.0</td>\n",
       "    </tr>\n",
       "    <tr>\n",
       "      <th>1000197892000000</th>\n",
       "      <td>1.0</td>\n",
       "    </tr>\n",
       "    <tr>\n",
       "      <th>1000212645000000</th>\n",
       "      <td>2.0</td>\n",
       "    </tr>\n",
       "    <tr>\n",
       "      <th>1000248956000000</th>\n",
       "      <td>2.0</td>\n",
       "    </tr>\n",
       "    <tr>\n",
       "      <th>1000256369000000</th>\n",
       "      <td>7.0</td>\n",
       "    </tr>\n",
       "    <tr>\n",
       "      <th>1000259003000000</th>\n",
       "      <td>1.0</td>\n",
       "    </tr>\n",
       "    <tr>\n",
       "      <th>1000316287000000</th>\n",
       "      <td>3.0</td>\n",
       "    </tr>\n",
       "    <tr>\n",
       "      <th>1000322490000000</th>\n",
       "      <td>2.0</td>\n",
       "    </tr>\n",
       "    <tr>\n",
       "      <th>1000338641000000</th>\n",
       "      <td>1.0</td>\n",
       "    </tr>\n",
       "    <tr>\n",
       "      <th>1000362881000000</th>\n",
       "      <td>1.0</td>\n",
       "    </tr>\n",
       "    <tr>\n",
       "      <th>1000382013000000</th>\n",
       "      <td>1.0</td>\n",
       "    </tr>\n",
       "    <tr>\n",
       "      <th>1000401029000000</th>\n",
       "      <td>1.0</td>\n",
       "    </tr>\n",
       "    <tr>\n",
       "      <th>1000412034000000</th>\n",
       "      <td>2.0</td>\n",
       "    </tr>\n",
       "    <tr>\n",
       "      <th>1000421935000000</th>\n",
       "      <td>1.0</td>\n",
       "    </tr>\n",
       "    <tr>\n",
       "      <th>1000447225000000</th>\n",
       "      <td>3.0</td>\n",
       "    </tr>\n",
       "    <tr>\n",
       "      <th>...</th>\n",
       "      <td>...</td>\n",
       "    </tr>\n",
       "    <tr>\n",
       "      <th>9999009703000000</th>\n",
       "      <td>1.0</td>\n",
       "    </tr>\n",
       "    <tr>\n",
       "      <th>9999020476000000</th>\n",
       "      <td>2.0</td>\n",
       "    </tr>\n",
       "    <tr>\n",
       "      <th>9999073605000000</th>\n",
       "      <td>1.0</td>\n",
       "    </tr>\n",
       "    <tr>\n",
       "      <th>9999138900000000</th>\n",
       "      <td>3.0</td>\n",
       "    </tr>\n",
       "    <tr>\n",
       "      <th>9999229435000000</th>\n",
       "      <td>4.0</td>\n",
       "    </tr>\n",
       "    <tr>\n",
       "      <th>9999270026000000</th>\n",
       "      <td>2.0</td>\n",
       "    </tr>\n",
       "    <tr>\n",
       "      <th>9999272811000000</th>\n",
       "      <td>1.0</td>\n",
       "    </tr>\n",
       "    <tr>\n",
       "      <th>9999275792000000</th>\n",
       "      <td>2.0</td>\n",
       "    </tr>\n",
       "    <tr>\n",
       "      <th>9999291358000000</th>\n",
       "      <td>2.0</td>\n",
       "    </tr>\n",
       "    <tr>\n",
       "      <th>9999317451000000</th>\n",
       "      <td>1.0</td>\n",
       "    </tr>\n",
       "    <tr>\n",
       "      <th>9999335521000000</th>\n",
       "      <td>3.0</td>\n",
       "    </tr>\n",
       "    <tr>\n",
       "      <th>9999342837000000</th>\n",
       "      <td>1.0</td>\n",
       "    </tr>\n",
       "    <tr>\n",
       "      <th>9999355006000000</th>\n",
       "      <td>1.0</td>\n",
       "    </tr>\n",
       "    <tr>\n",
       "      <th>9999423801000000</th>\n",
       "      <td>1.0</td>\n",
       "    </tr>\n",
       "    <tr>\n",
       "      <th>9999458528000000</th>\n",
       "      <td>1.0</td>\n",
       "    </tr>\n",
       "    <tr>\n",
       "      <th>9999464141000000</th>\n",
       "      <td>1.0</td>\n",
       "    </tr>\n",
       "    <tr>\n",
       "      <th>9999486393000000</th>\n",
       "      <td>2.0</td>\n",
       "    </tr>\n",
       "    <tr>\n",
       "      <th>9999489507000000</th>\n",
       "      <td>1.0</td>\n",
       "    </tr>\n",
       "    <tr>\n",
       "      <th>9999558811000000</th>\n",
       "      <td>1.0</td>\n",
       "    </tr>\n",
       "    <tr>\n",
       "      <th>9999580855000000</th>\n",
       "      <td>1.0</td>\n",
       "    </tr>\n",
       "    <tr>\n",
       "      <th>9999641524000000</th>\n",
       "      <td>1.0</td>\n",
       "    </tr>\n",
       "    <tr>\n",
       "      <th>9999706260000000</th>\n",
       "      <td>1.0</td>\n",
       "    </tr>\n",
       "    <tr>\n",
       "      <th>9999797233000000</th>\n",
       "      <td>3.0</td>\n",
       "    </tr>\n",
       "    <tr>\n",
       "      <th>9999806051000000</th>\n",
       "      <td>1.0</td>\n",
       "    </tr>\n",
       "    <tr>\n",
       "      <th>9999810070000000</th>\n",
       "      <td>2.0</td>\n",
       "    </tr>\n",
       "    <tr>\n",
       "      <th>9999824252000000</th>\n",
       "      <td>2.0</td>\n",
       "    </tr>\n",
       "    <tr>\n",
       "      <th>9999830781000000</th>\n",
       "      <td>3.0</td>\n",
       "    </tr>\n",
       "    <tr>\n",
       "      <th>9999845989000000</th>\n",
       "      <td>2.0</td>\n",
       "    </tr>\n",
       "    <tr>\n",
       "      <th>9999876218000000</th>\n",
       "      <td>2.0</td>\n",
       "    </tr>\n",
       "    <tr>\n",
       "      <th>9999929012000000</th>\n",
       "      <td>1.0</td>\n",
       "    </tr>\n",
       "  </tbody>\n",
       "</table>\n",
       "<p>330148 rows × 1 columns</p>\n",
       "</div>"
      ],
      "text/plain": [
       "                  value\n",
       "subscriberid           \n",
       "1000003425000000    1.0\n",
       "1000030914000000    2.0\n",
       "1000036049000000    1.0\n",
       "1000041030000000    1.0\n",
       "1000044840000000    1.0\n",
       "1000062252000000    1.0\n",
       "1000068889000000    2.0\n",
       "1000072174000000    2.0\n",
       "1000092045000000    1.0\n",
       "1000124526000000    1.0\n",
       "1000135365000000    1.0\n",
       "1000135827000000    2.0\n",
       "1000144468000000    2.0\n",
       "1000164596000000    1.0\n",
       "1000166172000000    1.0\n",
       "1000185962000000    4.0\n",
       "1000197892000000    1.0\n",
       "1000212645000000    2.0\n",
       "1000248956000000    2.0\n",
       "1000256369000000    7.0\n",
       "1000259003000000    1.0\n",
       "1000316287000000    3.0\n",
       "1000322490000000    2.0\n",
       "1000338641000000    1.0\n",
       "1000362881000000    1.0\n",
       "1000382013000000    1.0\n",
       "1000401029000000    1.0\n",
       "1000412034000000    2.0\n",
       "1000421935000000    1.0\n",
       "1000447225000000    3.0\n",
       "...                 ...\n",
       "9999009703000000    1.0\n",
       "9999020476000000    2.0\n",
       "9999073605000000    1.0\n",
       "9999138900000000    3.0\n",
       "9999229435000000    4.0\n",
       "9999270026000000    2.0\n",
       "9999272811000000    1.0\n",
       "9999275792000000    2.0\n",
       "9999291358000000    2.0\n",
       "9999317451000000    1.0\n",
       "9999335521000000    3.0\n",
       "9999342837000000    1.0\n",
       "9999355006000000    1.0\n",
       "9999423801000000    1.0\n",
       "9999458528000000    1.0\n",
       "9999464141000000    1.0\n",
       "9999486393000000    2.0\n",
       "9999489507000000    1.0\n",
       "9999558811000000    1.0\n",
       "9999580855000000    1.0\n",
       "9999641524000000    1.0\n",
       "9999706260000000    1.0\n",
       "9999797233000000    3.0\n",
       "9999806051000000    1.0\n",
       "9999810070000000    2.0\n",
       "9999824252000000    2.0\n",
       "9999830781000000    3.0\n",
       "9999845989000000    2.0\n",
       "9999876218000000    2.0\n",
       "9999929012000000    1.0\n",
       "\n",
       "[330148 rows x 1 columns]"
      ]
     },
     "execution_count": 11,
     "metadata": {},
     "output_type": "execute_result"
    }
   ],
   "source": [
    "rowsum"
   ]
  },
  {
   "cell_type": "code",
   "execution_count": 12,
   "metadata": {
    "collapsed": false,
    "scrolled": true
   },
   "outputs": [],
   "source": [
    "rowsum.sr = rowsum.sort_values(by='value', ascending = False)['value']"
   ]
  },
  {
   "cell_type": "code",
   "execution_count": 13,
   "metadata": {
    "collapsed": false
   },
   "outputs": [
    {
     "data": {
      "image/png": "[encoded data removed]",
      "text/plain": [
       "<matplotlib.figure.Figure at 0x11a962d10>"
      ]
     },
     "metadata": {},
     "output_type": "display_data"
    }
   ],
   "source": [
    "plt.figure(1)\n",
    "plt.subplot(121)\n",
    "rowsum.sr.plot(style=\"bo\")\n",
    "plt.savefig('rowsun.png')\n",
    "\n",
    "plt.subplot(122)\n",
    "bins = np.arange(0., 16., 1.)\n",
    "plt.hist(rowsum.sr, bins)\n",
    "plt.xlabel(\"User Row Sums\")\n",
    "\n",
    "plt.subplots_adjust(left=0.1, right=2, wspace=0.5, hspace=0.45)\n"
   ]
  },
  {
   "cell_type": "code",
   "execution_count": 38,
   "metadata": {
    "collapsed": false
   },
   "outputs": [
    {
     "data": {
      "image/png": "[encoded data removed]",
      "text/plain": [
       "<matplotlib.figure.Figure at 0x1174746d0>"
      ]
     },
     "metadata": {},
     "output_type": "display_data"
    }
   ],
   "source": [
    "bins = np.arange(0., 16., 1.)\n",
    "plt.hist(rowsum.sr, bins)\n",
    "plt.xlabel(\"User Row Sums\")\n",
    "plt.savefig('rowsumhist.png')"
   ]
  },
  {
   "cell_type": "code",
   "execution_count": 14,
   "metadata": {
    "collapsed": false
   },
   "outputs": [
    {
     "data": {
      "text/html": [
       "<div>\n",
       "<table border=\"1\" class=\"dataframe\">\n",
       "  <thead>\n",
       "    <tr style=\"text-align: right;\">\n",
       "      <th></th>\n",
       "      <th>value</th>\n",
       "    </tr>\n",
       "    <tr>\n",
       "      <th>key</th>\n",
       "      <th></th>\n",
       "    </tr>\n",
       "  </thead>\n",
       "  <tbody>\n",
       "    <tr>\n",
       "      <th>007.com</th>\n",
       "      <td>2.0</td>\n",
       "    </tr>\n",
       "    <tr>\n",
       "      <th>00server.com</th>\n",
       "      <td>5.0</td>\n",
       "    </tr>\n",
       "    <tr>\n",
       "      <th>01net.com</th>\n",
       "      <td>3.0</td>\n",
       "    </tr>\n",
       "    <tr>\n",
       "      <th>048.ua</th>\n",
       "      <td>4.0</td>\n",
       "    </tr>\n",
       "    <tr>\n",
       "      <th>0800-horoscope.com</th>\n",
       "      <td>2.0</td>\n",
       "    </tr>\n",
       "    <tr>\n",
       "      <th>1-800-balloons.com</th>\n",
       "      <td>1.0</td>\n",
       "    </tr>\n",
       "    <tr>\n",
       "      <th>1-800-dryclean.com</th>\n",
       "      <td>3.0</td>\n",
       "    </tr>\n",
       "    <tr>\n",
       "      <th>1-800-shaved-ice.com</th>\n",
       "      <td>2.0</td>\n",
       "    </tr>\n",
       "    <tr>\n",
       "      <th>1-800homeopathy.com</th>\n",
       "      <td>3.0</td>\n",
       "    </tr>\n",
       "    <tr>\n",
       "      <th>1-877-spirits.com</th>\n",
       "      <td>5.0</td>\n",
       "    </tr>\n",
       "    <tr>\n",
       "      <th>1-87vehicles.org</th>\n",
       "      <td>2.0</td>\n",
       "    </tr>\n",
       "    <tr>\n",
       "      <th>1-computerdesks.com</th>\n",
       "      <td>3.0</td>\n",
       "    </tr>\n",
       "    <tr>\n",
       "      <th>1-save-on-lens.com</th>\n",
       "      <td>3.0</td>\n",
       "    </tr>\n",
       "    <tr>\n",
       "      <th>10-2-4ranch.com</th>\n",
       "      <td>3.0</td>\n",
       "    </tr>\n",
       "    <tr>\n",
       "      <th>10-75.net</th>\n",
       "      <td>3.0</td>\n",
       "    </tr>\n",
       "    <tr>\n",
       "      <th>10-minute-plays.com</th>\n",
       "      <td>5.0</td>\n",
       "    </tr>\n",
       "    <tr>\n",
       "      <th>10-s.com</th>\n",
       "      <td>2.0</td>\n",
       "    </tr>\n",
       "    <tr>\n",
       "      <th>10000birds.com</th>\n",
       "      <td>1.0</td>\n",
       "    </tr>\n",
       "    <tr>\n",
       "      <th>1000acres.com</th>\n",
       "      <td>5.0</td>\n",
       "    </tr>\n",
       "    <tr>\n",
       "      <th>1000aircraftphotos.com</th>\n",
       "      <td>4.0</td>\n",
       "    </tr>\n",
       "    <tr>\n",
       "      <th>1000bulbs.com</th>\n",
       "      <td>3.0</td>\n",
       "    </tr>\n",
       "    <tr>\n",
       "      <th>1000islands-clayton.com</th>\n",
       "      <td>2.0</td>\n",
       "    </tr>\n",
       "    <tr>\n",
       "      <th>1000miglia.eu</th>\n",
       "      <td>3.0</td>\n",
       "    </tr>\n",
       "    <tr>\n",
       "      <th>1000oaksbarrel.com</th>\n",
       "      <td>2.0</td>\n",
       "    </tr>\n",
       "    <tr>\n",
       "      <th>1000peacewomen.org</th>\n",
       "      <td>4.0</td>\n",
       "    </tr>\n",
       "    <tr>\n",
       "      <th>1000thingstoronto.com</th>\n",
       "      <td>2.0</td>\n",
       "    </tr>\n",
       "    <tr>\n",
       "      <th>1000uglypeople.com</th>\n",
       "      <td>6.0</td>\n",
       "    </tr>\n",
       "    <tr>\n",
       "      <th>1001beersteins.com</th>\n",
       "      <td>5.0</td>\n",
       "    </tr>\n",
       "    <tr>\n",
       "      <th>1001cocktails.com</th>\n",
       "      <td>4.0</td>\n",
       "    </tr>\n",
       "    <tr>\n",
       "      <th>1001goroskop.ru</th>\n",
       "      <td>6.0</td>\n",
       "    </tr>\n",
       "    <tr>\n",
       "      <th>...</th>\n",
       "      <td>...</td>\n",
       "    </tr>\n",
       "    <tr>\n",
       "      <th>zvoxaudio.com</th>\n",
       "      <td>3.0</td>\n",
       "    </tr>\n",
       "    <tr>\n",
       "      <th>zwangerpesiri.com</th>\n",
       "      <td>5.0</td>\n",
       "    </tr>\n",
       "    <tr>\n",
       "      <th>zwbk.org</th>\n",
       "      <td>1.0</td>\n",
       "    </tr>\n",
       "    <tr>\n",
       "      <th>zwickjahn.com</th>\n",
       "      <td>2.0</td>\n",
       "    </tr>\n",
       "    <tr>\n",
       "      <th>zwilling.com</th>\n",
       "      <td>6.0</td>\n",
       "    </tr>\n",
       "    <tr>\n",
       "      <th>zwingervonhimmel.com</th>\n",
       "      <td>4.0</td>\n",
       "    </tr>\n",
       "    <tr>\n",
       "      <th>zwool.com</th>\n",
       "      <td>1.0</td>\n",
       "    </tr>\n",
       "    <tr>\n",
       "      <th>zybez.net</th>\n",
       "      <td>5.0</td>\n",
       "    </tr>\n",
       "    <tr>\n",
       "      <th>zycon.com</th>\n",
       "      <td>5.0</td>\n",
       "    </tr>\n",
       "    <tr>\n",
       "      <th>zydecobirmingham.com</th>\n",
       "      <td>2.0</td>\n",
       "    </tr>\n",
       "    <tr>\n",
       "      <th>zydecokitchen.com</th>\n",
       "      <td>2.0</td>\n",
       "    </tr>\n",
       "    <tr>\n",
       "      <th>zydecos.net</th>\n",
       "      <td>3.0</td>\n",
       "    </tr>\n",
       "    <tr>\n",
       "      <th>zygo.com</th>\n",
       "      <td>5.0</td>\n",
       "    </tr>\n",
       "    <tr>\n",
       "      <th>zygorguides.com</th>\n",
       "      <td>6.0</td>\n",
       "    </tr>\n",
       "    <tr>\n",
       "      <th>zyka.com</th>\n",
       "      <td>3.0</td>\n",
       "    </tr>\n",
       "    <tr>\n",
       "      <th>zylom.com</th>\n",
       "      <td>5.0</td>\n",
       "    </tr>\n",
       "    <tr>\n",
       "      <th>zyloware.com</th>\n",
       "      <td>4.0</td>\n",
       "    </tr>\n",
       "    <tr>\n",
       "      <th>zymetrical.com</th>\n",
       "      <td>5.0</td>\n",
       "    </tr>\n",
       "    <tr>\n",
       "      <th>zymoresearch.com</th>\n",
       "      <td>6.0</td>\n",
       "    </tr>\n",
       "    <tr>\n",
       "      <th>zynews.com</th>\n",
       "      <td>4.0</td>\n",
       "    </tr>\n",
       "    <tr>\n",
       "      <th>zyrtec.com</th>\n",
       "      <td>2.0</td>\n",
       "    </tr>\n",
       "    <tr>\n",
       "      <th>zysa.org</th>\n",
       "      <td>8.0</td>\n",
       "    </tr>\n",
       "    <tr>\n",
       "      <th>zysj.com.cn</th>\n",
       "      <td>3.0</td>\n",
       "    </tr>\n",
       "    <tr>\n",
       "      <th>zythophile.co.uk</th>\n",
       "      <td>5.0</td>\n",
       "    </tr>\n",
       "    <tr>\n",
       "      <th>zyxel.com</th>\n",
       "      <td>4.0</td>\n",
       "    </tr>\n",
       "    <tr>\n",
       "      <th>zyxware.com</th>\n",
       "      <td>2.0</td>\n",
       "    </tr>\n",
       "    <tr>\n",
       "      <th>zzcat.com</th>\n",
       "      <td>9.0</td>\n",
       "    </tr>\n",
       "    <tr>\n",
       "      <th>zzounds.com</th>\n",
       "      <td>1.0</td>\n",
       "    </tr>\n",
       "    <tr>\n",
       "      <th>zzperformance.com</th>\n",
       "      <td>3.0</td>\n",
       "    </tr>\n",
       "    <tr>\n",
       "      <th>zztop.com</th>\n",
       "      <td>3.0</td>\n",
       "    </tr>\n",
       "  </tbody>\n",
       "</table>\n",
       "<p>175325 rows × 1 columns</p>\n",
       "</div>"
      ],
      "text/plain": [
       "                         value\n",
       "key                           \n",
       "007.com                    2.0\n",
       "00server.com               5.0\n",
       "01net.com                  3.0\n",
       "048.ua                     4.0\n",
       "0800-horoscope.com         2.0\n",
       "1-800-balloons.com         1.0\n",
       "1-800-dryclean.com         3.0\n",
       "1-800-shaved-ice.com       2.0\n",
       "1-800homeopathy.com        3.0\n",
       "1-877-spirits.com          5.0\n",
       "1-87vehicles.org           2.0\n",
       "1-computerdesks.com        3.0\n",
       "1-save-on-lens.com         3.0\n",
       "10-2-4ranch.com            3.0\n",
       "10-75.net                  3.0\n",
       "10-minute-plays.com        5.0\n",
       "10-s.com                   2.0\n",
       "10000birds.com             1.0\n",
       "1000acres.com              5.0\n",
       "1000aircraftphotos.com     4.0\n",
       "1000bulbs.com              3.0\n",
       "1000islands-clayton.com    2.0\n",
       "1000miglia.eu              3.0\n",
       "1000oaksbarrel.com         2.0\n",
       "1000peacewomen.org         4.0\n",
       "1000thingstoronto.com      2.0\n",
       "1000uglypeople.com         6.0\n",
       "1001beersteins.com         5.0\n",
       "1001cocktails.com          4.0\n",
       "1001goroskop.ru            6.0\n",
       "...                        ...\n",
       "zvoxaudio.com              3.0\n",
       "zwangerpesiri.com          5.0\n",
       "zwbk.org                   1.0\n",
       "zwickjahn.com              2.0\n",
       "zwilling.com               6.0\n",
       "zwingervonhimmel.com       4.0\n",
       "zwool.com                  1.0\n",
       "zybez.net                  5.0\n",
       "zycon.com                  5.0\n",
       "zydecobirmingham.com       2.0\n",
       "zydecokitchen.com          2.0\n",
       "zydecos.net                3.0\n",
       "zygo.com                   5.0\n",
       "zygorguides.com            6.0\n",
       "zyka.com                   3.0\n",
       "zylom.com                  5.0\n",
       "zyloware.com               4.0\n",
       "zymetrical.com             5.0\n",
       "zymoresearch.com           6.0\n",
       "zynews.com                 4.0\n",
       "zyrtec.com                 2.0\n",
       "zysa.org                   8.0\n",
       "zysj.com.cn                3.0\n",
       "zythophile.co.uk           5.0\n",
       "zyxel.com                  4.0\n",
       "zyxware.com                2.0\n",
       "zzcat.com                  9.0\n",
       "zzounds.com                1.0\n",
       "zzperformance.com          3.0\n",
       "zztop.com                  3.0\n",
       "\n",
       "[175325 rows x 1 columns]"
      ]
     },
     "execution_count": 14,
     "metadata": {},
     "output_type": "execute_result"
    }
   ],
   "source": [
    "colsum = agghist.groupby('key').sum()\n",
    "colsum"
   ]
  },
  {
   "cell_type": "code",
   "execution_count": 15,
   "metadata": {
    "collapsed": false
   },
   "outputs": [],
   "source": [
    "colsum.sr =colsum.sort_values(by='value', ascending = False)['value']\n"
   ]
  },
  {
   "cell_type": "code",
   "execution_count": 16,
   "metadata": {
    "collapsed": false,
    "scrolled": true
   },
   "outputs": [
    {
     "data": {
      "image/png": "[encoded data removed]",
      "text/plain": [
       "<matplotlib.figure.Figure at 0x12bb490d0>"
      ]
     },
     "metadata": {},
     "output_type": "display_data"
    }
   ],
   "source": [
    "plt.figure(1)\n",
    "plt.subplot(121)\n",
    "colsum.sr.plot(style=\"go\")\n",
    "\n",
    "plt.subplot(122)\n",
    "bins = np.arange(0., 16., 1.)\n",
    "plt.hist(colsum.sr, bins,color='g')\n",
    "plt.xlabel(\"Website Column Sums\")\n",
    "\n",
    "plt.subplots_adjust(left=0.1, right=2, wspace=0.5, hspace=0.45)\n",
    "plt.savefig(\"colsum.png\")"
   ]
  },
  {
   "cell_type": "code",
   "execution_count": 17,
   "metadata": {
    "collapsed": false
   },
   "outputs": [
    {
     "data": {
      "image/png": "[encoded data removed]",
      "text/plain": [
       "<matplotlib.figure.Figure at 0x12a069950>"
      ]
     },
     "metadata": {},
     "output_type": "display_data"
    }
   ],
   "source": [
    "bins = np.arange(0., 16., 1.)\n",
    "plt.hist(colsum.sr, bins,color='g')\n",
    "plt.xlabel(\"Website Column Sums\")\n",
    "plt.savefig(\"colsumhist.png\")"
   ]
  },
  {
   "cell_type": "code",
   "execution_count": 77,
   "metadata": {
    "collapsed": false
   },
   "outputs": [],
   "source": [
    "agghist.to_csv(\"/Users/fengmei/SJSU_ClASSES/Math203/Verizon/Data/agghist.txt\", index=False)"
   ]
  },
  {
   "cell_type": "code",
   "execution_count": 4,
   "metadata": {
    "collapsed": false,
    "scrolled": false
   },
   "outputs": [],
   "source": [
    "agghist_dma = agg_hist_all.select('subscriberid','tldAggScores','dma').na.drop()"
   ]
  },
  {
   "cell_type": "code",
   "execution_count": 5,
   "metadata": {
    "collapsed": false,
    "scrolled": true
   },
   "outputs": [
    {
     "data": {
      "text/plain": [
       "DataFrame[subscriberid: string, tldAggScores: map<string,double>, dma: array<string>]"
      ]
     },
     "execution_count": 5,
     "metadata": {},
     "output_type": "execute_result"
    }
   ],
   "source": [
    "#agghist_dma.createTempView(\"agghistdma\")\n",
    "agghist_dma.filter(agghist_dma.dma[0].like('%501%'))"
   ]
  },
  {
   "cell_type": "code",
   "execution_count": 6,
   "metadata": {
    "collapsed": true
   },
   "outputs": [],
   "source": [
    "agghist_dma_pd= agghist_dma.filter(agghist_dma.dma[0].like('%501%')).select(\"subscriberid\", explode(agg_hist_all.tldAggScores).alias(\"key\", \"value\")).toPandas()"
   ]
  },
  {
   "cell_type": "code",
   "execution_count": 7,
   "metadata": {
    "collapsed": false
   },
   "outputs": [],
   "source": [
    "datadma = agghist_dma.filter(agghist_dma.dma[0].like('%501%')).select(\"tldAggScores\").toPandas()"
   ]
  },
  {
   "cell_type": "code",
   "execution_count": 8,
   "metadata": {
    "collapsed": false
   },
   "outputs": [],
   "source": [
    "from sklearn.feature_extraction.text import CountVectorizer\n",
    "import numpy as np\n",
    "def tokenize(text):\n",
    "    return(text)\n",
    "vectorizer = CountVectorizer(min_df=1,tokenizer=tokenize,lowercase=False)\n",
    "data = datadma.values.ravel().tolist()\n",
    "X = vectorizer.fit_transform(data)\n",
    "feature_names = vectorizer.get_feature_names()\n",
    "feature_names = np.asarray(feature_names)"
   ]
  },
  {
   "cell_type": "code",
   "execution_count": 33,
   "metadata": {
    "collapsed": false
   },
   "outputs": [
    {
     "ename": "AttributeError",
     "evalue": "'list' object has no attribute 'topandas'",
     "output_type": "error",
     "traceback": [
      "\u001b[0;31m---------------------------------------------------------------------------\u001b[0m",
      "\u001b[0;31mAttributeError\u001b[0m                            Traceback (most recent call last)",
      "\u001b[0;32m<ipython-input-33-94e52191ee65>\u001b[0m in \u001b[0;36m<module>\u001b[0;34m()\u001b[0m\n\u001b[1;32m      1\u001b[0m \u001b[0mdma501websites\u001b[0m \u001b[0;34m=\u001b[0m \u001b[0mmap\u001b[0m\u001b[0;34m(\u001b[0m\u001b[0;32mlambda\u001b[0m \u001b[0ma\u001b[0m\u001b[0;34m:\u001b[0m \u001b[0mstr\u001b[0m\u001b[0;34m(\u001b[0m\u001b[0ma\u001b[0m\u001b[0;34m)\u001b[0m\u001b[0;34m,\u001b[0m \u001b[0mfeature_names\u001b[0m\u001b[0;34m)\u001b[0m\u001b[0;34m\u001b[0m\u001b[0m\n\u001b[0;32m----> 2\u001b[0;31m \u001b[0mdma501webpd\u001b[0m \u001b[0;34m=\u001b[0m \u001b[0mdma501websites\u001b[0m\u001b[0;34m.\u001b[0m\u001b[0mtopandas\u001b[0m\u001b[0;34m(\u001b[0m\u001b[0;34m)\u001b[0m\u001b[0;34m\u001b[0m\u001b[0m\n\u001b[0m",
      "\u001b[0;31mAttributeError\u001b[0m: 'list' object has no attribute 'topandas'"
     ]
    }
   ],
   "source": [
    "dma501websites = map(lambda a: str(a), feature_names)\n",
    "dma501websites"
   ]
  },
  {
   "cell_type": "code",
   "execution_count": 55,
   "metadata": {
    "collapsed": false
   },
   "outputs": [],
   "source": [
    "import scipy.io\n",
    "scipy.io.mmwrite('data_dma501',X)"
   ]
  },
  {
   "cell_type": "code",
   "execution_count": 37,
   "metadata": {
    "collapsed": false
   },
   "outputs": [],
   "source": [
    "with open(\"dma501_websites.txt\", \"w\") as output:\n",
    "    output.write(\"\\n\".join(dma501websites))"
   ]
  },
  {
   "cell_type": "markdown",
   "metadata": {},
   "source": [
    "# oneday/profile exploration"
   ]
  },
  {
   "cell_type": "code",
   "execution_count": 27,
   "metadata": {
    "collapsed": false
   },
   "outputs": [],
   "source": [
    "oneday_profile_all = spark.read.parquet(\"/Users/fengmei/SJSU_ClASSES/Math203/Verizon/Data/agg/oneday/profile\")\n",
    "oneday_profile_1 = spark.read.parquet(\"/Users/fengmei/SJSU_ClASSES/Math203/Verizon/Data/agg/oneday/profile/date=20161124\")\n",
    "oneday_profile_11 = spark.read.parquet(\"/Users/fengmei/SJSU_ClASSES/Math203/Verizon/Data/agg/oneday/profile/date\\=20161124/part-r-00000-597babaa-7df1-49db-8ef2-de01b07e103e.snappy.parquet\")"
   ]
  },
  {
   "cell_type": "markdown",
   "metadata": {},
   "source": [
    "## (1) Check the columns"
   ]
  },
  {
   "cell_type": "code",
   "execution_count": 32,
   "metadata": {
    "collapsed": false,
    "scrolled": true
   },
   "outputs": [
    {
     "data": {
      "text/plain": [
       "['osSet',\n",
       " 'vzCategMap',\n",
       " 'appCategMap',\n",
       " 'dmaMap',\n",
       " 'stateMap',\n",
       " 'subscriberid',\n",
       " 'privacy']"
      ]
     },
     "execution_count": 32,
     "metadata": {},
     "output_type": "execute_result"
    }
   ],
   "source": [
    "oneday_profile_1.columns"
   ]
  },
  {
   "cell_type": "markdown",
   "metadata": {},
   "source": [
    "## (2) check one particular ID. Different with agg/profile data"
   ]
  },
  {
   "cell_type": "code",
   "execution_count": 36,
   "metadata": {
    "collapsed": false
   },
   "outputs": [
    {
     "data": {
      "text/plain": [
       "[Row(osSet=None, vzCategMap=None, appCategMap=None, dmaMap=None, stateMap=None, subscriberid=u'1001617822000000', privacy=u'NOO', date=20170121)]"
      ]
     },
     "execution_count": 36,
     "metadata": {},
     "output_type": "execute_result"
    }
   ],
   "source": [
    "oneday_profile_all.filter(\"subscriberid ='1001617822000000'\").take(1)"
   ]
  },
  {
   "cell_type": "markdown",
   "metadata": {},
   "source": [
    "# oneday/feature exploration"
   ]
  },
  {
   "cell_type": "code",
   "execution_count": 28,
   "metadata": {
    "collapsed": true
   },
   "outputs": [],
   "source": [
    "oneday_feature_all = spark.read.parquet(\"/Users/fengmei/SJSU_ClASSES/Math203/Verizon/Data/agg/oneday/feature\")\n",
    "oneday_feature_11 = spark.read.parquet(\"/Users/fengmei/SJSU_ClASSES/Math203/Verizon/Data/agg/oneday/feature/day\\=2016-11-24/part-r-00200-14c90367-a1f3-4cc5-b409-18b65f735fb3.snappy.parquet\")\n",
    "oneday_feature_1 = spark.read.parquet(\"/Users/fengmei/SJSU_ClASSES/Math203/Verizon/Data/agg/oneday/feature/day\\=2016-11-24\")"
   ]
  },
  {
   "cell_type": "markdown",
   "metadata": {},
   "source": [
    "## (1) Check the columns"
   ]
  },
  {
   "cell_type": "code",
   "execution_count": 33,
   "metadata": {
    "collapsed": false
   },
   "outputs": [
    {
     "data": {
      "text/plain": [
       "['subscriberid', 'featureValue', 'featureType', 'measure']"
      ]
     },
     "execution_count": 33,
     "metadata": {},
     "output_type": "execute_result"
    }
   ],
   "source": [
    "oneday_feature_1.columns"
   ]
  },
  {
   "cell_type": "markdown",
   "metadata": {},
   "source": [
    "## (2) Check the same ID"
   ]
  },
  {
   "cell_type": "code",
   "execution_count": 37,
   "metadata": {
    "collapsed": false
   },
   "outputs": [
    {
     "name": "stdout",
     "output_type": "stream",
     "text": [
      "+----------------+------------+-----------+-------+----------+\n",
      "|    subscriberid|featureValue|featureType|measure|       day|\n",
      "+----------------+------------+-----------+-------+----------+\n",
      "|1001617822000000|        c840|          4|    1.0|2017-01-25|\n",
      "|1001617822000000|        dn71|          4|    1.0|2016-12-01|\n",
      "|1001617822000000|      dnm88u|          4|    1.0|2017-01-06|\n",
      "|1001617822000000|        dn71|          4|    1.0|2017-01-27|\n",
      "|1001617822000000|        dn71|          4|    1.0|2016-12-30|\n",
      "|1001617822000000|      drkk81|          4|    1.0|2017-01-31|\n",
      "|1001617822000000|       06037|          3|    1.0|2017-01-25|\n",
      "|1001617822000000|      drkk81|          4|    1.0|2017-01-05|\n",
      "|1001617822000000|      drkk81|          4|    1.0|2016-12-03|\n",
      "|1001617822000000|       06037|          3|    1.0|2017-01-29|\n",
      "|1001617822000000|      drkk81|          4|    1.0|2017-01-29|\n",
      "|1001617822000000|       37301|          3|    1.0|2016-12-01|\n",
      "|1001617822000000|      drkk81|          4|    1.0|2016-12-11|\n",
      "|1001617822000000|        dn71|          4|    1.0|2016-12-28|\n",
      "|1001617822000000|        9vv1|          4|    1.0|2016-12-08|\n",
      "|1001617822000000|      drkk81|          4|    1.0|2016-12-05|\n",
      "|1001617822000000|      drkk81|          4|    1.0|2016-12-08|\n",
      "|1001617822000000|        dn71|          4|    1.0|2016-12-04|\n",
      "|1001617822000000|      dnm88u|          4|    1.0|2017-01-29|\n",
      "|1001617822000000|      drkk81|          4|    1.0|2016-12-06|\n",
      "+----------------+------------+-----------+-------+----------+\n",
      "only showing top 20 rows\n",
      "\n"
     ]
    }
   ],
   "source": [
    "oneday_feature_all.filter(\"subscriberid ='1001617822000000'\").show()"
   ]
  },
  {
   "cell_type": "markdown",
   "metadata": {},
   "source": [
    "## (3) FeatureValues counts"
   ]
  },
  {
   "cell_type": "code",
   "execution_count": 87,
   "metadata": {
    "collapsed": false,
    "scrolled": true
   },
   "outputs": [
    {
     "name": "stdout",
     "output_type": "stream",
     "text": [
      "+------------+-------+\n",
      "|featureValue|  count|\n",
      "+------------+-------+\n",
      "|       99502|2253747|\n",
      "|       bdvk9|2252695|\n",
      "|       bdvkd|  25316|\n",
      "|  Apple Mail|   6790|\n",
      "|       07094|   4248|\n",
      "|       94044|   3631|\n",
      "|       14072|   3267|\n",
      "|       94965|   2864|\n",
      "|       94801|   2774|\n",
      "|       84116|   2526|\n",
      "|       07470|   2387|\n",
      "|       98110|   2335|\n",
      "|       94941|   2158|\n",
      "|       07047|   2150|\n",
      "|       90265|   2145|\n",
      "|       20016|   2082|\n",
      "|        dntj|   1969|\n",
      "|        dntx|   1939|\n",
      "|        dnwn|   1892|\n",
      "|       19063|   1875|\n",
      "+------------+-------+\n",
      "only showing top 20 rows\n",
      "\n"
     ]
    }
   ],
   "source": [
    "oneday_feature_all.select(\"featureValue\").groupBy(\"featureValue\").count().orderBy(\"count\", ascending=False).show()"
   ]
  },
  {
   "cell_type": "markdown",
   "metadata": {},
   "source": [
    "## (4) FeatureType counts"
   ]
  },
  {
   "cell_type": "code",
   "execution_count": 42,
   "metadata": {
    "collapsed": false
   },
   "outputs": [
    {
     "name": "stdout",
     "output_type": "stream",
     "text": [
      "+-----------+-------+\n",
      "|featureType|  count|\n",
      "+-----------+-------+\n",
      "|          4|8040083|\n",
      "|          3|7361740|\n",
      "|          1| 591637|\n",
      "|          2| 208948|\n",
      "|          5|   6790|\n",
      "+-----------+-------+\n",
      "\n"
     ]
    }
   ],
   "source": [
    "oneday_feature_all.select(\"featureType\").groupBy(\"featureType\").count().orderBy(\"count\", ascending=False).show()"
   ]
  },
  {
   "cell_type": "markdown",
   "metadata": {},
   "source": [
    "## (5) It seems- type 1 == website, type2== ?, type3,4 == zip,Geohash, type 5 ==Apple Mail"
   ]
  },
  {
   "cell_type": "code",
   "execution_count": 43,
   "metadata": {
    "collapsed": false
   },
   "outputs": [
    {
     "data": {
      "text/plain": [
       "[Row(subscriberid=u'6313291015000000', featureValue=u'providenceday.org', featureType=1, measure=1.0, day=datetime.date(2016, 12, 25)),\n",
       " Row(subscriberid=u'2938840425000000', featureValue=u'dryprosystems.com', featureType=1, measure=1.0, day=datetime.date(2016, 12, 25)),\n",
       " Row(subscriberid=u'3808120490000000', featureValue=u'testoil.com', featureType=1, measure=1.0, day=datetime.date(2016, 12, 25))]"
      ]
     },
     "execution_count": 43,
     "metadata": {},
     "output_type": "execute_result"
    }
   ],
   "source": [
    "oneday_feature_all.filter(\"featureType='1'\").take(3)"
   ]
  },
  {
   "cell_type": "code",
   "execution_count": 47,
   "metadata": {
    "collapsed": false
   },
   "outputs": [
    {
     "data": {
      "text/plain": [
       "[Row(subscriberid=u'1971430657000000', featureValue=u'Apple Mail', featureType=5, measure=1.0, day=datetime.date(2016, 12, 25)),\n",
       " Row(subscriberid=u'3752693529000000', featureValue=u'Apple Mail', featureType=5, measure=1.0, day=datetime.date(2016, 12, 30))]"
      ]
     },
     "execution_count": 47,
     "metadata": {},
     "output_type": "execute_result"
    }
   ],
   "source": [
    "oneday_feature_all.filter(\"featureType='5'\").take(2)"
   ]
  },
  {
   "cell_type": "code",
   "execution_count": 91,
   "metadata": {
    "collapsed": false
   },
   "outputs": [
    {
     "data": {
      "text/plain": [
       "[Row(subscriberid=u'4448036634000000', featureValue=u'tahitians', featureType=2, measure=1.0, day=datetime.date(2016, 12, 25)),\n",
       " Row(subscriberid=u'5013798988000000', featureValue=u'scyphate', featureType=2, measure=1.0, day=datetime.date(2016, 12, 25)),\n",
       " Row(subscriberid=u'6799595959000000', featureValue=u'pollack', featureType=2, measure=1.0, day=datetime.date(2016, 12, 25)),\n",
       " Row(subscriberid=u'6427197133000000', featureValue=u'oliguria', featureType=2, measure=1.0, day=datetime.date(2016, 12, 25)),\n",
       " Row(subscriberid=u'1000625301000000', featureValue=u'bumblebee', featureType=2, measure=1.0, day=datetime.date(2016, 12, 25))]"
      ]
     },
     "execution_count": 91,
     "metadata": {},
     "output_type": "execute_result"
    }
   ],
   "source": [
    "oneday_feature_all.filter(\"featureType='2'\").take(5)"
   ]
  },
  {
   "cell_type": "code",
   "execution_count": 69,
   "metadata": {
    "collapsed": false
   },
   "outputs": [],
   "source": [
    "feature_ids = oneday_feature_all.select(\"subscriberid\").dropDuplicates().count()"
   ]
  },
  {
   "cell_type": "code",
   "execution_count": 70,
   "metadata": {
    "collapsed": false,
    "scrolled": true
   },
   "outputs": [
    {
     "data": {
      "text/plain": [
       "799317"
      ]
     },
     "execution_count": 70,
     "metadata": {},
     "output_type": "execute_result"
    }
   ],
   "source": [
    "feature_ids"
   ]
  },
  {
   "cell_type": "code",
   "execution_count": 62,
   "metadata": {
    "collapsed": false,
    "scrolled": true
   },
   "outputs": [
    {
     "name": "stdout",
     "output_type": "stream",
     "text": [
      "+----------------+-----+\n",
      "|    subscriberid|count|\n",
      "+----------------+-----+\n",
      "|5045815586000000|  494|\n",
      "|6845556198000000|  469|\n",
      "|2175509201000000|  429|\n",
      "|2340023061000000|  408|\n",
      "|3684964045000000|  388|\n",
      "|4145651965000000|  353|\n",
      "|9832897347000000|  314|\n",
      "|6700529660000000|  312|\n",
      "|1705189336000000|  292|\n",
      "|5153246807000000|  292|\n",
      "|4273239834000000|  292|\n",
      "|1027861811000000|  290|\n",
      "|4877757619000000|  289|\n",
      "|2110761696000000|  283|\n",
      "|9261402637000000|  282|\n",
      "|7151434612000000|  277|\n",
      "|8824215702000000|  275|\n",
      "|5263873858000000|  274|\n",
      "|1238791231000000|  274|\n",
      "|5129652725000000|  269|\n",
      "+----------------+-----+\n",
      "only showing top 20 rows\n",
      "\n"
     ]
    }
   ],
   "source": [
    "oneday_feature_all.select(\"subscriberid\").groupBy(\"subscriberid\").count().orderBy(\"count\", ascending=False).show()"
   ]
  },
  {
   "cell_type": "code",
   "execution_count": 68,
   "metadata": {
    "collapsed": false
   },
   "outputs": [],
   "source": [
    "# agg_hist_all.join(feature_ids, agg_hist_all.subscriberid == feature_ids.subscriberid, 'inner').drop(agg_hist_all.subscriberid).count()"
   ]
  },
  {
   "cell_type": "code",
   "execution_count": null,
   "metadata": {
    "collapsed": true
   },
   "outputs": [],
   "source": []
  }
 ],
 "metadata": {
  "kernelspec": {
   "display_name": "Python 2",
   "language": "python",
   "name": "python2"
  },
  "language_info": {
   "codemirror_mode": {
    "name": "ipython",
    "version": 2
   },
   "file_extension": ".py",
   "mimetype": "text/x-python",
   "name": "python",
   "nbconvert_exporter": "python",
   "pygments_lexer": "ipython2",
   "version": "2.7.9"
  }
 },
 "nbformat": 4,
 "nbformat_minor": 2
}
